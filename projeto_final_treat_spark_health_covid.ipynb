{
  "nbformat": 4,
  "nbformat_minor": 0,
  "metadata": {
    "colab": {
      "provenance": [],
      "include_colab_link": true
    },
    "kernelspec": {
      "name": "python3",
      "display_name": "Python 3"
    },
    "language_info": {
      "name": "python"
    }
  },
  "cells": [
    {
      "cell_type": "markdown",
      "metadata": {
        "id": "view-in-github",
        "colab_type": "text"
      },
      "source": [
        "<a href=\"https://colab.research.google.com/github/pablohenrique93/projeto_final_saude_covid19/blob/main/projeto_final_treat_spark_health_covid.ipynb\" target=\"_parent\"><img src=\"https://colab.research.google.com/assets/colab-badge.svg\" alt=\"Open In Colab\"/></a>"
      ]
    },
    {
      "cell_type": "markdown",
      "source": [
        "# INSTALAÇÃO E IMPORTAÇÃO DE BIBLIOTECAS NECESSÁRIAS "
      ],
      "metadata": {
        "id": "6AVGvNkdeY7F"
      }
    },
    {
      "cell_type": "markdown",
      "source": [
        "Instalando o PySpark"
      ],
      "metadata": {
        "id": "ZQNg51aWepM9"
      }
    },
    {
      "cell_type": "code",
      "source": [
        "#Foi realizado a instalação  da biblioteca pyspark\n",
        "!pip install pyspark"
      ],
      "metadata": {
        "id": "iIEw7tIVp3uY"
      },
      "execution_count": null,
      "outputs": []
    },
    {
      "cell_type": "code",
      "source": [
        "#Realizado a instalação do gcsfs\n",
        "!pip install gcsfs"
      ],
      "metadata": {
        "id": "T07-L8Vfv_y_"
      },
      "execution_count": null,
      "outputs": []
    },
    {
      "cell_type": "markdown",
      "source": [
        "Importando bibliotecas "
      ],
      "metadata": {
        "id": "arOc_9OsevdU"
      }
    },
    {
      "cell_type": "code",
      "execution_count": null,
      "metadata": {
        "id": "mAcjqPaubDZk"
      },
      "outputs": [],
      "source": [
        "#Importando pyspark\n",
        "import pyspark\n",
        "# Importando a SparkSession\n",
        "from pyspark.sql import SparkSession\n",
        "#Importando pyspark sql funções\n",
        "import pyspark.sql.functions as F\n",
        "from pyspark.sql.functions import regexp_replace, split\n",
        "from pyspark.sql.functions import col,isnan, when, count\n",
        "from pyspark.sql.functions import row_number, asc, desc\n",
        "#Importando pyspark window\n",
        "from pyspark.sql.window import Window\n",
        "#Importando pyspark sql types\n",
        "from pyspark.sql.types import StructField\n",
        "from pyspark.sql.types import StructType, StringType, FloatType, LongType, DateType, TimestampType\n",
        "#from pyspark.sql import *\n",
        "#Importando o pandas \n",
        "import pandas as pd"
      ]
    },
    {
      "cell_type": "code",
      "source": [
        "#Importando os e google cloud\n",
        "import os\n",
        "from google.cloud import storage\n",
        "import google.auth\n",
        "from google.auth.transport.requests import Request"
      ],
      "metadata": {
        "id": "eCxpsUJGwKiG"
      },
      "execution_count": null,
      "outputs": []
    },
    {
      "cell_type": "code",
      "source": [
        "#Importando pymongo\n",
        "import pymongo\n",
        "from pymongo import MongoClient"
      ],
      "metadata": {
        "id": "VaHXUll3Ukom"
      },
      "execution_count": null,
      "outputs": []
    },
    {
      "cell_type": "markdown",
      "source": [
        "# CONFIGURANDO E VERIFICANDO A SPARK SESSION E CRIANDO O DATA FRAME "
      ],
      "metadata": {
        "id": "jzuIqfqae1_G"
      }
    },
    {
      "cell_type": "markdown",
      "source": [
        "Configurando ambiente da Spark Session"
      ],
      "metadata": {
        "id": "qehOYQL0faIf"
      }
    },
    {
      "cell_type": "code",
      "source": [
        "#Configurando a variável do ambiente da sessão spark\n",
        "spark = (\n",
        "    SparkSession.builder\n",
        "                .master('local')\n",
        "                .appName('dataset')\n",
        "                .config('spark.ui.port','4050')\n",
        "                .getOrCreate()\n",
        ")"
      ],
      "metadata": {
        "id": "roxZjUkIdPuD"
      },
      "execution_count": null,
      "outputs": []
    },
    {
      "cell_type": "markdown",
      "source": [
        "Verificando a Spark Session"
      ],
      "metadata": {
        "id": "d0uNiv-YftP3"
      }
    },
    {
      "cell_type": "code",
      "source": [
        "#Verificando a variavel spark\n",
        "spark"
      ],
      "metadata": {
        "id": "l0OnvoGE2bHS"
      },
      "execution_count": null,
      "outputs": []
    },
    {
      "cell_type": "markdown",
      "source": [
        "Criando o data frame spark"
      ],
      "metadata": {
        "id": "JCBy3JX7gFSe"
      }
    },
    {
      "cell_type": "code",
      "source": [
        "# Criando dataframe \n",
        "df = (\n",
        "    spark.createDataFrame(pd.read_json('/content/Europa-Covid-Test.json' ))\n",
        "         \n",
        ")"
      ],
      "metadata": {
        "id": "p8WuezPydh8f"
      },
      "execution_count": null,
      "outputs": []
    },
    {
      "cell_type": "markdown",
      "source": [
        "# MANIPULANDO O SCHEMA"
      ],
      "metadata": {
        "id": "nH_tNa8Wgems"
      }
    },
    {
      "cell_type": "code",
      "source": [
        "#Visualizando o data frame\n",
        "df.show(truncate = True)\n",
        "#Na pré visualização decidir separar a coluna year_week"
      ],
      "metadata": {
        "id": "SSNFD6CNt5EZ"
      },
      "execution_count": null,
      "outputs": []
    },
    {
      "cell_type": "code",
      "source": [
        "#Verificando os tipos da coluna\n",
        "df.dtypes"
      ],
      "metadata": {
        "id": "p0G9rENMUUK_"
      },
      "execution_count": null,
      "outputs": []
    },
    {
      "cell_type": "markdown",
      "source": [
        "Criando duas colunas novas year e week"
      ],
      "metadata": {
        "id": "Yc7tPjcfo-My"
      }
    },
    {
      "cell_type": "code",
      "source": [
        "#Criando uma variavel para receber a função split\n",
        "split_cols = pyspark.sql.functions.split(df['year_week'], '-')"
      ],
      "metadata": {
        "id": "kH-zRYqCJteq"
      },
      "execution_count": null,
      "outputs": []
    },
    {
      "cell_type": "code",
      "source": [
        "#Criando um novo df com as colunas novas\n",
        "df1 = df.withColumn('year', split_cols.getItem(0)) \\\n",
        "        .withColumn('week', split_cols.getItem(1))"
      ],
      "metadata": {
        "id": "vedgSVVrImep"
      },
      "execution_count": null,
      "outputs": []
    },
    {
      "cell_type": "code",
      "source": [
        "#Removendo a coluna year_week\n",
        "df2 = df1.drop('year_week')"
      ],
      "metadata": {
        "id": "3ZGHrVRSN4dC"
      },
      "execution_count": null,
      "outputs": []
    },
    {
      "cell_type": "code",
      "source": [
        "#Visualizando remoção da coluna\n",
        "df2.show()"
      ],
      "metadata": {
        "id": "_-65_nt0PocQ"
      },
      "execution_count": null,
      "outputs": []
    },
    {
      "cell_type": "markdown",
      "source": [
        "Manipulando o esquema"
      ],
      "metadata": {
        "id": "AJLzHJwGpI0R"
      }
    },
    {
      "cell_type": "code",
      "source": [
        "#Visualizando as colunas e o tipo delas, usando o schema\n",
        "df2.printSchema()"
      ],
      "metadata": {
        "id": "z90kSrEywDnv"
      },
      "execution_count": null,
      "outputs": []
    },
    {
      "cell_type": "code",
      "source": [
        "#Criando um esquema novo, só foi utilizado para mudar o tipo das colunas\n",
        "esquema = (\n",
        "    StructType([\n",
        "        StructField('country', StringType()),\n",
        "        StructField('country_code', StringType()),\n",
        "        StructField('level', StringType()),\n",
        "        StructField('region', StringType()),\n",
        "        StructField('region_name', StringType()),\n",
        "        StructField('population', LongType()),\n",
        "        StructField('new_cases', FloatType()),\n",
        "        StructField('tests_done', FloatType()),\n",
        "        StructField('testing_rate', FloatType()),\n",
        "        StructField('positivity_rate', FloatType()),\n",
        "        StructField('testing_data_source', StringType()),\n",
        "        StructField('year', DateType()),\n",
        "        StructField('week', StringType()),\n",
        "    ])\n",
        ")"
      ],
      "metadata": {
        "id": "jjMwVA20lHd1"
      },
      "execution_count": null,
      "outputs": []
    },
    {
      "cell_type": "code",
      "source": [
        "#Convertendo data frame em arquivo csv\n",
        "df2.write.format(\"csv\").mode(\"overwrite\").save(\"/content/projeto_f.csv\")"
      ],
      "metadata": {
        "id": "dnZzHYHshWwv"
      },
      "execution_count": null,
      "outputs": []
    },
    {
      "cell_type": "code",
      "source": [
        "#Criando um data frame com  as mudanças feita no tipo das colunas\n",
        "df3 = (\n",
        "    spark.read.format('csv')\n",
        "              .option('header', 'true')\n",
        "              .option('inferschema', 'false')\n",
        "              .option('delimiter', ',')\n",
        "              .load('/content/projeto_f.csv', schema = esquema)\n",
        ")"
      ],
      "metadata": {
        "id": "p0wly2C0iIm3"
      },
      "execution_count": null,
      "outputs": []
    },
    {
      "cell_type": "code",
      "source": [
        "#Visualizando o data frame \n",
        "df3.show()"
      ],
      "metadata": {
        "id": "JMkmqnkpCiN2"
      },
      "execution_count": null,
      "outputs": []
    },
    {
      "cell_type": "code",
      "source": [
        "#Verificando  o novo esquema com as modificações da coluna\n",
        "df3.printSchema()"
      ],
      "metadata": {
        "id": "5I35_ydbCvYE"
      },
      "execution_count": null,
      "outputs": []
    },
    {
      "cell_type": "markdown",
      "source": [
        "# MANIPULANDO AS COLUNAS"
      ],
      "metadata": {
        "id": "CDFPLmlyiYM0"
      }
    },
    {
      "cell_type": "markdown",
      "source": [
        "Renomeando colunas e valores da coluna pais"
      ],
      "metadata": {
        "id": "A5dzmAjRp8a6"
      }
    },
    {
      "cell_type": "code",
      "source": [
        "# Renomeando as colunas \n",
        "df4 = (df3.withColumnRenamed(\"country\",\"pais\")\n",
        "          .withColumnRenamed(\"country_code\",\"cod_pais\")\n",
        "          .withColumnRenamed(\"level\",\"nivel\")\n",
        "          .withColumnRenamed(\"region\",\"sigla\")\n",
        "          .withColumnRenamed(\"region_name\",\"nome_regiao\")\n",
        "          .withColumnRenamed(\"population\",\"populacao\")\n",
        "          .withColumnRenamed(\"new_cases\",\"novos_casos\")\n",
        "          .withColumnRenamed(\"tests_done\",\"testes_feitos\")\n",
        "          .withColumnRenamed(\"testing_rate\",\"taxa_teste\")\n",
        "          .withColumnRenamed(\"positivity_rate\",\"taxa_positiva\")\n",
        "          .withColumnRenamed(\"testing_data_source\",\"fonte_dados\")\n",
        "          .withColumnRenamed(\"year\",\"ano\")\n",
        "          .withColumnRenamed(\"week\",\"semana\")\n",
        ")"
      ],
      "metadata": {
        "id": "KetDQVOLSin6"
      },
      "execution_count": null,
      "outputs": []
    },
    {
      "cell_type": "code",
      "source": [
        "# Renomeando valores da coluna pais\n",
        "df5 = df4.withColumn(\"pais\", regexp_replace(\"pais\",\"Sweden\",\"Suécia\")) \\\n",
        "                 .withColumn(\"pais\", regexp_replace(\"pais\",\"Germany\",\"Alemanha\")) \\\n",
        "                 .withColumn(\"pais\", regexp_replace(\"pais\",\"France\",\"França\")) \\\n",
        "                 .withColumn(\"pais\", regexp_replace(\"pais\",\"Greece\",\"Grécia\")) \\\n",
        "                 .withColumn(\"pais\", regexp_replace(\"pais\",\"Slovakia\",\"Eslováquia\")) \\\n",
        "                 .withColumn(\"pais\", regexp_replace(\"pais\",\"Belgium\",\"Bélgica\")) \\\n",
        "                 .withColumn(\"pais\", regexp_replace(\"pais\",\"Finland\",\"Finlândia\")) \\\n",
        "                 .withColumn(\"pais\", regexp_replace(\"pais\",\"Malta\",\"Malta\")) \\\n",
        "                 .withColumn(\"pais\", regexp_replace(\"pais\",\"Croatia\",\"Croácia\")) \\\n",
        "                 .withColumn(\"pais\", regexp_replace(\"pais\",\"Italy\",\"Itália\")) \\\n",
        "                 .withColumn(\"pais\", regexp_replace(\"pais\",\"Lithuania\",\"Lituânia\")) \\\n",
        "                 .withColumn(\"pais\", regexp_replace(\"pais\",\"Norway\",\"Noruega\")) \\\n",
        "                 .withColumn(\"pais\", regexp_replace(\"pais\",\"Spain\",\"Espanha\")) \\\n",
        "                 .withColumn(\"pais\", regexp_replace(\"pais\",\"Czechia\",\"Tchéquia\")) \\\n",
        "                 .withColumn(\"pais\", regexp_replace(\"pais\",\"Denmark\",\"Dinamarca\")) \\\n",
        "                 .withColumn(\"pais\", regexp_replace(\"pais\",\"Ireland\",\"Irlanda\")) \\\n",
        "                 .withColumn(\"pais\", regexp_replace(\"pais\",\"Liechtenstein\",\"Liechtenstein\")) \\\n",
        "                 .withColumn(\"pais\", regexp_replace(\"pais\",\"Iceland\",\"Islândia\")) \\\n",
        "                 .withColumn(\"pais\", regexp_replace(\"pais\",\"Cyprus\",\"Chipre\")) \\\n",
        "                 .withColumn(\"pais\", regexp_replace(\"pais\",\"Estonia\",\"Estônia\")) \\\n",
        "                 .withColumn(\"pais\", regexp_replace(\"pais\",\"Bulgaria\",\"Bulgária\")) \\\n",
        "                 .withColumn(\"pais\", regexp_replace(\"pais\",\"Austria\",\"Áustria\")) \\\n",
        "                 .withColumn(\"pais\", regexp_replace(\"pais\",\"Luxembourg\",\"Luxemburgo\")) \\\n",
        "                 .withColumn(\"pais\", regexp_replace(\"pais\",\"Netherlands\",\"Países Baixos\")) \\\n",
        "                 .withColumn(\"pais\", regexp_replace(\"pais\",\"Portugal\",\"Portugal\")) \\\n",
        "                 .withColumn(\"pais\", regexp_replace(\"pais\",\"Latvia\",\"Letônia\")) \\\n",
        "                 .withColumn(\"pais\", regexp_replace(\"pais\",\"Slovenia\",\"Eslovênia\")) \\\n",
        "                 .withColumn(\"pais\", regexp_replace(\"pais\",\"Poland\",\"Polônia\")) \\\n",
        "                 .withColumn(\"pais\", regexp_replace(\"pais\",\"Irlanda\",\"Irlanda\")) \\\n",
        "                 .withColumn(\"pais\", regexp_replace(\"pais\",\"Romania\",\"Romênia\")) \\\n",
        "                 .withColumn(\"pais\", regexp_replace(\"pais\",\"Hungary\",\"Hungria\")) \n"
      ],
      "metadata": {
        "id": "BumqWA8xXE6R"
      },
      "execution_count": null,
      "outputs": []
    },
    {
      "cell_type": "code",
      "source": [
        "#Visualizando tradução feita nas colunas\n",
        "df5.show()"
      ],
      "metadata": {
        "id": "D6arnmH2ZUYN"
      },
      "execution_count": null,
      "outputs": []
    },
    {
      "cell_type": "markdown",
      "source": [
        "# VERIFICANDO E REMOVENDO AS INCONSISTÊNCIAS\n"
      ],
      "metadata": {
        "id": "dfhoxPFBqH2r"
      }
    },
    {
      "cell_type": "code",
      "source": [
        "#Verificando a quantidade de linhas\n",
        "df5.count()\n",
        "# total de  4649 linhas"
      ],
      "metadata": {
        "id": "dO60AnXFa-uF"
      },
      "execution_count": null,
      "outputs": []
    },
    {
      "cell_type": "code",
      "source": [
        "#Verificando se tem linhas duplicadas \n",
        "df6 = df5.dropDuplicates()\n",
        "df6.count()\n",
        "#Não existe linhas duplicadas"
      ],
      "metadata": {
        "id": "hsCItC08caQb"
      },
      "execution_count": null,
      "outputs": []
    },
    {
      "cell_type": "markdown",
      "source": [
        "Verificando todas as colunas e analisando possiveis mudanças"
      ],
      "metadata": {
        "id": "D9WYWyisqV-J"
      }
    },
    {
      "cell_type": "code",
      "source": [
        "#Verificando todas as colunas do data frame\n",
        "df6.select('pais').distinct().show(100,truncate = False)\n",
        "#Dropar nivel, só tem um unico valor 'national'\n",
        "#Coluna fonte de dados, tem valores nulos"
      ],
      "metadata": {
        "id": "FCv3_-QOc9Kz"
      },
      "execution_count": null,
      "outputs": []
    },
    {
      "cell_type": "markdown",
      "source": [
        "Realizando o drop nas colunas e linhas"
      ],
      "metadata": {
        "id": "tyiG5EqbqfX4"
      }
    },
    {
      "cell_type": "code",
      "source": [
        "#Realizando drop nas colunas\n",
        "df7 = df6.drop('nome_regiao','sigla','nivel')\n",
        "df7.show()"
      ],
      "metadata": {
        "id": "EA5NcSpDn8np"
      },
      "execution_count": null,
      "outputs": []
    },
    {
      "cell_type": "code",
      "source": [
        "#Verificando as linhas referente aos valores nulos da coluna \"fonte_dados\"\n",
        "df8 = df7.where(~ F.col(\"fonte_dados\").isNull())\n",
        "df8.show()"
      ],
      "metadata": {
        "id": "Ooaiv-_XrlmD"
      },
      "execution_count": null,
      "outputs": []
    },
    {
      "cell_type": "code",
      "source": [
        "#Verificando se sobrou valores nulos nas outras colunas\n",
        "df_teste = df8.select([count(when\n",
        "                   (isnan(c) | col(c).isNull(), c)).alias(c) \n",
        "for c in df8.columns]\n",
        "   ).show()\n",
        "#Obs: Depois que foi alterado o tipo da coluna ano, comecou a da um erro, \n",
        "#porém esse código serviu apenas para verificar os NaN restantes"
      ],
      "metadata": {
        "id": "sXxvP8qHqwsq"
      },
      "execution_count": null,
      "outputs": []
    },
    {
      "cell_type": "code",
      "source": [
        "#Substituindo os NAN por 0, afim de facilitar operações no insights\n",
        "df9 = df8.fillna({'taxa_positiva': 0})\n",
        "df10 = df9.fillna({'novos_casos': 0})"
      ],
      "metadata": {
        "id": "VEGg5QeOYq-n"
      },
      "execution_count": null,
      "outputs": []
    },
    {
      "cell_type": "code",
      "source": [
        "#Verificando novamente se os NAN foram substituidos \n",
        "df_limpo = df10.select([count(when\n",
        "                   (isnan(c) | col(c).isNull(), c)).alias(c) \n",
        "for c in df9.columns]\n",
        "   ).show()\n",
        "#Obs: Depois que foi alterado o tipo da coluna ano, comecou a da um erro, \n",
        "#porém esse código serviu apenas para verificar os NaN restantes"
      ],
      "metadata": {
        "id": "eakd49Aza_Dg"
      },
      "execution_count": null,
      "outputs": []
    },
    {
      "cell_type": "code",
      "source": [
        "#Verificando a quantidade de linhas\n",
        "df10.count()\n",
        "#Foram removidas  441 linhas no drop de linhas "
      ],
      "metadata": {
        "id": "AaS1IMa5GLIT"
      },
      "execution_count": null,
      "outputs": []
    },
    {
      "cell_type": "code",
      "source": [
        "#Dropando a coluna fonte de dados\n",
        "df11 = df10.drop('fonte_dados')"
      ],
      "metadata": {
        "id": "OWwLf4n3LI3x"
      },
      "execution_count": null,
      "outputs": []
    },
    {
      "cell_type": "markdown",
      "source": [
        "# POSSIVEIS ANÁLISES "
      ],
      "metadata": {
        "id": "X-YIu-cf3PgF"
      }
    },
    {
      "cell_type": "code",
      "source": [
        "#Visualizando o data frame para extrair possiveis insght's \n",
        "df11.show()"
      ],
      "metadata": {
        "id": "ltC4vd2_00r5"
      },
      "execution_count": null,
      "outputs": []
    },
    {
      "cell_type": "markdown",
      "source": [
        "Utilizando GroupBy, filtros e algumas funções"
      ],
      "metadata": {
        "id": "Wi9v5an--Yqi"
      }
    },
    {
      "cell_type": "code",
      "source": [
        "#Visualizando a quantidade de registro de cada pais\n",
        "df11.groupBy('pais').count().orderBy(F.col('count').desc()).show(100)"
      ],
      "metadata": {
        "id": "4qViC9Qd1Yaw"
      },
      "execution_count": null,
      "outputs": []
    },
    {
      "cell_type": "code",
      "source": [
        "#Verificando a quantidade de novos casos \n",
        "df11.groupBy('pais').sum('novos_casos').show(truncate = False)"
      ],
      "metadata": {
        "id": "aTdSRR7E12qf"
      },
      "execution_count": null,
      "outputs": []
    },
    {
      "cell_type": "code",
      "source": [
        "#Verificando a quantidade de taxa de testes \n",
        "df11.groupBy('pais').sum('testes_feitos').show(truncate = False)"
      ],
      "metadata": {
        "id": "zwte8ou42Zxf"
      },
      "execution_count": null,
      "outputs": []
    },
    {
      "cell_type": "code",
      "source": [
        "#Verificando a quantidade de casos em cada ano\n",
        "df11.groupBy('ano').count().orderBy(F.col('count').desc()).show()"
      ],
      "metadata": {
        "id": "N63YSCbP21GI"
      },
      "execution_count": null,
      "outputs": []
    },
    {
      "cell_type": "code",
      "source": [
        "#Foi realizado um grupo by para ver os valores minimos e maximos da coluna taxa positiva\n",
        "df11.groupBy('pais').agg(\n",
        "    F.round(F.sum('taxa_positiva'),2).alias('taxa_positiva'), \n",
        "    F.min('taxa_positiva').alias('valor_min'),\n",
        "    F.max('taxa_positiva').alias('valor_max')\n",
        "    ).show()"
      ],
      "metadata": {
        "id": "zHUEYSeE44nm"
      },
      "execution_count": null,
      "outputs": []
    },
    {
      "cell_type": "code",
      "source": [
        "#Realizando um filtro na Alemanha para  novos casos menores que 3000\n",
        "df11.where((F.col(\"pais\")=='Alemanha')).filter('novos_casos < 3000').show(20)"
      ],
      "metadata": {
        "id": "dD8rzwno9Q0W"
      },
      "execution_count": null,
      "outputs": []
    },
    {
      "cell_type": "code",
      "source": [
        "#Realizando um filtro na Alemanha para novos casos maiores que 3000\n",
        "df11.where((F.col(\"pais\")=='Alemanha')).filter('novos_casos > 3000').show(20)"
      ],
      "metadata": {
        "id": "r1nbexC89fAW"
      },
      "execution_count": null,
      "outputs": []
    },
    {
      "cell_type": "markdown",
      "source": [
        "Criando uma partição pela coluna teste_ok, trazendo a quantidade  de linhas que se repetem ordenando pelos novos casos do maior para menor.\n",
        "1) Obersvamos que a quantidade de linhas com valores zeros é de 16. \n",
        "Após isso a nova contagem é realizada trazendo a quantidade de linhas com valores 1.0 sendo igual a 6 linhas\n",
        "Ao especificar no show(100)temos uma melhor visualização"
      ],
      "metadata": {
        "id": "tbra020_Gwzm"
      }
    },
    {
      "cell_type": "code",
      "source": [
        "num_linha = Window.partitionBy('testes_feitos').orderBy(desc('novos_casos'))\n",
        "df11.withColumn('numero_linha',row_number().over(num_linha)).show(100)"
      ],
      "metadata": {
        "id": "9RP8v06-Gx7A"
      },
      "execution_count": null,
      "outputs": []
    },
    {
      "cell_type": "markdown",
      "source": [
        "# CRIANDO UM CSV COM OS DADOS TRATADOS E ENVIANDO O CSV PARA A BUCKET \n"
      ],
      "metadata": {
        "id": "ylKiJnxPHuMq"
      }
    },
    {
      "cell_type": "code",
      "source": [
        "#Convertendo data frame em arquivo csv\n",
        "df11.write.format(\"parquet\").mode(\"overwrite\").save(\"/content/eu_covid_tratado.csv\")\n"
      ],
      "metadata": {
        "id": "d036HABPHsbz"
      },
      "execution_count": null,
      "outputs": []
    },
    {
      "cell_type": "code",
      "source": [
        "df_pd_1 = pd.read_parquet(\"/content/eu_covid_tratado.csv/part-00000-130d5b74-a971-4efc-ab08-892f83119a71-c000.snappy.parquet\")"
      ],
      "metadata": {
        "id": "pvk-2ennMLOI"
      },
      "execution_count": null,
      "outputs": []
    },
    {
      "cell_type": "code",
      "source": [
        "df_pd_1"
      ],
      "metadata": {
        "id": "OsnkIeYJMuxw"
      },
      "execution_count": null,
      "outputs": []
    },
    {
      "cell_type": "code",
      "source": [
        "df_pd_1.to_csv(\"/content/eu_covid_tratado2.csv\", index = False)"
      ],
      "metadata": {
        "id": "rWjwhTNYtymK"
      },
      "execution_count": null,
      "outputs": []
    },
    {
      "cell_type": "code",
      "source": [
        "df_teste = pd.read_csv(\"/content/eu_covid_tratado2.csv\")\n",
        "df_teste"
      ],
      "metadata": {
        "id": "Y5lqU28auciJ"
      },
      "execution_count": null,
      "outputs": []
    },
    {
      "cell_type": "code",
      "source": [
        "# #Enviando data frame tradado em formato csv\n",
        "df_pd_1.to_csv('gs://projfinal/tratados/df_pd_1_europa-covid-test.csv',storage_options={'token':'token:gcp'})\n"
      ],
      "metadata": {
        "id": "6Nw_w4awv9Rm"
      },
      "execution_count": null,
      "outputs": []
    },
    {
      "cell_type": "markdown",
      "source": [
        "# ENVIANDO O ARQUIVO SPARK PARA O MONGODB\n"
      ],
      "metadata": {
        "id": "neJRMjz1Oyuo"
      }
    },
    {
      "cell_type": "code",
      "source": [
        "# Conectando com o MongoDB\n",
        "\n",
        "uri = \"uri_mongo\"\n",
        "client = MongoClient(uri,tls=True,tlsCertificateKeyFile='key_mongo')"
      ],
      "metadata": {
        "id": "sjHk4W2jO4bq"
      },
      "execution_count": null,
      "outputs": []
    },
    {
      "cell_type": "code",
      "source": [
        "# Criando coleções para enviar para o mongoDB\n",
        "\n",
        "db = client['projfinal']\n",
        "colecaotratado1 = db['tratado1']"
      ],
      "metadata": {
        "id": "qESTgrSFTTrH"
      },
      "execution_count": null,
      "outputs": []
    },
    {
      "cell_type": "code",
      "source": [
        "#Enviando os Datasets tratados para o mongoDB\n",
        "\n",
        "df_pd_1.reset_index(drop=True)\n",
        "df01 = df_pd_1.to_dict(\"records\")\n",
        "colecaotratado1.insert_many(df01)"
      ],
      "metadata": {
        "id": "PE0XaS6ZTWsl"
      },
      "execution_count": null,
      "outputs": []
    },
    {
      "cell_type": "code",
      "source": [
        "#Verificando se o arquivo foi enviado\n",
        "colecaotratado1.count_documents({})"
      ],
      "metadata": {
        "id": "u3rBg6QuXP_e"
      },
      "execution_count": null,
      "outputs": []
    }
  ]
}