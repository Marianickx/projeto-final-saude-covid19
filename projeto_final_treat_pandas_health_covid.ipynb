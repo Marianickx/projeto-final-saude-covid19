{
  "nbformat": 4,
  "nbformat_minor": 0,
  "metadata": {
    "colab": {
      "provenance": [],
      "toc_visible": true,
      "include_colab_link": true
    },
    "kernelspec": {
      "name": "python3",
      "display_name": "Python 3"
    },
    "language_info": {
      "name": "python"
    }
  },
  "cells": [
    {
      "cell_type": "markdown",
      "metadata": {
        "id": "view-in-github",
        "colab_type": "text"
      },
      "source": [
        "<a href=\"https://colab.research.google.com/github/pablohenrique93/projeto_final_saude_covid19/blob/main/projeto_final_treat_pandas_health_covid.ipynb\" target=\"_parent\"><img src=\"https://colab.research.google.com/assets/colab-badge.svg\" alt=\"Open In Colab\"/></a>"
      ]
    },
    {
      "cell_type": "markdown",
      "source": [
        "#INSTALAÇÃO DAS BIBLIOTECAS"
      ],
      "metadata": {
        "id": "NM2kYzUuQI_R"
      }
    },
    {
      "cell_type": "code",
      "source": [
        "#Instalação do Pandera\n",
        "!pip install pandera"
      ],
      "metadata": {
        "id": "F1hDNYgWQDhh"
      },
      "execution_count": null,
      "outputs": []
    },
    {
      "cell_type": "code",
      "source": [
        "#Instalação do PySpark e Gcsfs\n",
        "!pip install PYSPARK\n",
        "!pip install gcsfs"
      ],
      "metadata": {
        "id": "YA_KcNSpQbEJ"
      },
      "execution_count": null,
      "outputs": []
    },
    {
      "cell_type": "code",
      "source": [
        "#Instalando bibliotecas SQL\n",
        "!pip install mysql-connector-python\n",
        "!pip install pymysql"
      ],
      "metadata": {
        "id": "JymsRp9RNpfN"
      },
      "execution_count": null,
      "outputs": []
    },
    {
      "cell_type": "markdown",
      "source": [
        "#IMPORTAÇÃO BIBLIOTECAS"
      ],
      "metadata": {
        "id": "HZsHWOkXQtHI"
      }
    },
    {
      "cell_type": "code",
      "source": [
        "# Importação das bibliotecas necessárias\n",
        "\n",
        "import pandas as pd\n",
        "import pandera as pa\n",
        "from pyspark.sql import SparkSession\n",
        "import pyspark.sql.functions\n",
        "from pyspark.sql.functions import *\n",
        "import os\n",
        "import pyspark.sql.functions as F\n",
        "import numpy as np\n",
        "from pyspark.sql.window import Window\n",
        "from google.cloud import storage\n",
        "from pyspark.sql.types import *\n",
        "import pymongo\n",
        "from pymongo import MongoClient\n",
        "import mysql.connector\n",
        "import pymysql\n",
        "from sqlalchemy import create_engine\n",
        "import google.auth\n",
        "from google.auth.transport.requests import Request\n",
        "import sqlalchemy\n"
      ],
      "metadata": {
        "id": "QZsuwcFnQsXQ"
      },
      "execution_count": null,
      "outputs": []
    },
    {
      "cell_type": "code",
      "source": [
        "# Preparação dos Df's para envio para GCP.\n",
        "\n",
        "df = pd.read_json('/content/Europa-Covid-Test.json',encoding = 'ISO-8859-1')\n",
        "df2 = pd.read_csv('/content/WHO-COVID-19-global-data.csv',encoding = 'ISO-8859-1')\n",
        "df3 = pd.read_csv('/content/WHO-COVID-19-global-table-data.csv',encoding = 'ISO-8859-1')\n",
        "df4 = pd.read_csv('/content/vaccination-metadata.csv',encoding = 'ISO-8859-1')"
      ],
      "metadata": {
        "id": "c8ePiSoaNpTp"
      },
      "execution_count": null,
      "outputs": []
    },
    {
      "cell_type": "markdown",
      "source": [
        "#ENVIO DOS DF'S ORIGINAIS PARA O STORAGE"
      ],
      "metadata": {
        "id": "7BruqLV6RxzB"
      }
    },
    {
      "cell_type": "code",
      "source": [
        "# Enviar arquivos originais para GCP\n",
        "\n",
        "df.to_json('gs://projfinal/brutos/Europa-Covid-Test.json',storage_options={'token':'token_gcp'})\n",
        "df2.to_csv('gs://projfinal/brutos/WHO-COVID-19-global-data.csv',storage_options={'token':'token_gp'})\n",
        "df3.to_csv('gs://projfinal/brutos/WHO-COVID-19-global-table-data.csv',storage_options={'token':'token_gcp'})\n",
        "df4.to_csv('gs://projfinal/brutos/vaccination-metadata.csv',storage_options={'token':'token_gcp'})"
      ],
      "metadata": {
        "id": "plarxqwkNpPg"
      },
      "execution_count": null,
      "outputs": []
    },
    {
      "cell_type": "markdown",
      "source": [
        "#EXTRAÇÃO DA BASE DE DADOS (CLOUD STORAGE)"
      ],
      "metadata": {
        "id": "zxWms5a_SMkZ"
      }
    },
    {
      "cell_type": "code",
      "source": [
        "# #Service acc\n",
        "\n",
        "# serviceAccount = '/content/bc26-rdg-ed27-7fdc00e9e239.json'\n",
        "# os.environ['GOOGLE_APPLICATION_CREDENTIALS'] = serviceAccount"
      ],
      "metadata": {
        "id": "qW5azz3QNphi"
      },
      "execution_count": null,
      "outputs": []
    },
    {
      "cell_type": "code",
      "source": [
        "# #Extração Arquivos GCP/bucket\n",
        "\n",
        "# client = storage.Client('/content/bc26-rdg-ed27-7fdc00e9e239.json')\n",
        "# #CRIAR UMA VARIÁVEL PARA RECEBER O NOME DA BUCKET\n",
        "# bucket = client.get_bucket('projfinal')\n",
        "\n",
        "# #ESCOLHER O ARQUIVO DENTRO DA BUCKET\n",
        "# bucket.blob('Europa-Covid-Test')\n",
        "\n",
        "# #CRIAR UMA VARIÁVEL PARA RECEBER O CAMINHO DO ARQUIVO\n",
        "# path1 = 'gs://projfinal/brutos/Europa-Covid-Test.json'"
      ],
      "metadata": {
        "id": "a4WKMo6wN1hn"
      },
      "execution_count": null,
      "outputs": []
    },
    {
      "cell_type": "code",
      "source": [
        "# client = storage.Client('/content/bc26-rdg-ed27-7fdc00e9e239.json')\n",
        "# #Criar uma variável para receber o nome do bucket\n",
        "# bucket = client.get_bucket('projfinal')\n",
        "\n",
        "# #Escolher o arquivo dentro da bucket\n",
        "# bucket.blob('WHO-COVID-19-global-data')\n",
        "\n",
        "# #Criar uma variável para receber o nome do arquivo\n",
        "# path2 = 'gs://projfinal/brutos/WHO-COVID-19-global-data.csv'"
      ],
      "metadata": {
        "id": "1EIF8zzGN1fa"
      },
      "execution_count": null,
      "outputs": []
    },
    {
      "cell_type": "code",
      "source": [
        "# client = storage.Client('/content/bc26-rdg-ed27-7fdc00e9e239.json')\n",
        "# #Criar uma variável para receber o nome do bucket\n",
        "# bucket = client.get_bucket('projfinal')\n",
        "\n",
        "# #Escolher o arquivo dentro da bucket\n",
        "# bucket.blob('WHO-COVID-19-global-table-data')\n",
        "\n",
        "# #Criar uma variável para receber o nome do arquivo\n",
        "# path3 = 'gs://projfinal/brutos/WHO-COVID-19-global-table-data.csv'"
      ],
      "metadata": {
        "id": "WEZKVIrmN1dL"
      },
      "execution_count": null,
      "outputs": []
    },
    {
      "cell_type": "code",
      "source": [
        "# client = storage.Client('/content/bc26-rdg-ed27-7fdc00e9e239.json')\n",
        "# #Criar uma variável para receber o nome do bucket\n",
        "# bucket = client.get_bucket('projfinal')\n",
        "\n",
        "# #Escolher o arquivo dentro da bucket\n",
        "# bucket.blob('vaccination-metadata')\n",
        "\n",
        "# #Criar uma variável para receber o nome do arquivo\n",
        "# path4 = 'gs://projfinal/brutos/vaccination-metadata.csv'"
      ],
      "metadata": {
        "id": "4J_l75RjN1a8"
      },
      "execution_count": null,
      "outputs": []
    },
    {
      "cell_type": "code",
      "source": [
        "# # Denominação dos Df's\n",
        "# df_pd_1 = pd.read_json(path1)\n",
        "# df_pd_2 = pd.read_csv(path2, low_memory=False)\n",
        "# df_pd_3 = pd.read_csv(path3, low_memory=False)\n",
        "# df_pd_4 = pd.read_csv(path4, low_memory=False)"
      ],
      "metadata": {
        "id": "8tWAlTewN1WW"
      },
      "execution_count": null,
      "outputs": []
    },
    {
      "cell_type": "code",
      "source": [
        "df_pd_1 = pd.read_json('https://storage.googleapis.com/projfinal/brutos/Europa-Covid-Test.json')\n",
        "df_pd_2 = pd.read_csv('https://storage.googleapis.com/projfinal/brutos/WHO-COVID-19-global-data.csv')\n",
        "df_pd_3 = pd.read_csv('https://storage.googleapis.com/projfinal/brutos/WHO-COVID-19-global-table-data.csv')\n",
        "df_pd_4 = pd.read_csv('https://storage.googleapis.com/projfinal/brutos/vaccination-metadata.csv')"
      ],
      "metadata": {
        "id": "xdfjC9l-I8ig"
      },
      "execution_count": null,
      "outputs": []
    },
    {
      "cell_type": "code",
      "source": [
        "# Verificação se os Dataframes foram devidamente carregados\n",
        "\n",
        "df_pd_1.head(2)\n",
        "df_pd_2.head(2)\n",
        "df_pd_3.head(2)\n",
        "df_pd_4.head(2)"
      ],
      "metadata": {
        "id": "HOdnnRoOAvx3"
      },
      "execution_count": null,
      "outputs": []
    },
    {
      "cell_type": "markdown",
      "source": [
        "#ENVIO DOS DF'S ORIGINAIS PARA MySQL"
      ],
      "metadata": {
        "id": "zXzgy-IPSA2I"
      }
    },
    {
      "cell_type": "code",
      "source": [
        "#Envio dos DF para MYsql\n",
        "\n",
        "\n",
        "conexao = 'ip_address'\n",
        "nome_do_banco = 'database_name'\n",
        "usuario = 'user'\n",
        "senha = 'password' \n",
        "engine = create_engine(\"mysql+pymysql://{user}:{pw}@{host}/{db}\"\n",
        "             .format(host=conexao, db=nome_do_banco, user= usuario, pw=senha))\n",
        "\n",
        "df_pd_1.to_sql(\"Europa-Covid-Test\",engine,index=True,index_label='id')\n",
        "df_pd_2.to_sql(\"WHO-COVID-19-global-data\",engine,index=True,index_label='id')\n",
        "df_pd_3.to_sql(\"WHO-COVID-19-global-table-data\",engine,index=True,index_label='id')\n",
        "df_pd_4.to_sql(\"vaccination-metadata\",engine,index=True,index_label='id')"
      ],
      "metadata": {
        "id": "ziZ3G3HmN1Rw"
      },
      "execution_count": null,
      "outputs": []
    },
    {
      "cell_type": "markdown",
      "source": [
        "#BACKUP DOS DF'S"
      ],
      "metadata": {
        "id": "fEx1ZR9COroR"
      }
    },
    {
      "cell_type": "code",
      "source": [
        "# Faz-se necessário fazer um backup dos Dataframes antes de qualquer manipulação de dados, em caso de um erro \n",
        "# nos processos posteriores os dados estão assegurados.\n",
        "bckup_df_pd_1 = df_pd_1.copy\n",
        "bckup_df_pd_2 = df_pd_2.copy\n",
        "bckup_df_pd_3 = df_pd_3.copy\n",
        "bckup_df_pd_4 = df_pd_4.copy"
      ],
      "metadata": {
        "id": "zphLeVPMOv74"
      },
      "execution_count": null,
      "outputs": []
    },
    {
      "cell_type": "markdown",
      "source": [
        "#PRÉ-ANÁLISE DOS DF'S ORIGINAIS"
      ],
      "metadata": {
        "id": "C-C66Nn0TIAX"
      }
    },
    {
      "cell_type": "code",
      "source": [
        "# Foi utilizado os seguintes comandos para realizar a Pré análise dos df's originais\n",
        "bckup_df_pd_2.head()\n",
        "bckup_df_pd_3.tail()\n",
        "bckup_df_pd_4.dtypes\n",
        "bckup_df_pd_2.shape"
      ],
      "metadata": {
        "id": "-UhUTp28TMOA"
      },
      "execution_count": null,
      "outputs": []
    },
    {
      "cell_type": "markdown",
      "source": [
        "#TRATAMENTO DE DADOS DF'S (df_pd_2, df_pd_3, df_pd_4)"
      ],
      "metadata": {
        "id": "gGEdTLGDxrjD"
      }
    },
    {
      "cell_type": "markdown",
      "source": [
        "##TRATAMENTO DO df_pd_2"
      ],
      "metadata": {
        "id": "PgFNGHu5_gkL"
      }
    },
    {
      "cell_type": "code",
      "source": [
        "# Verificação de cada coluna com o objetivo de encontrar possíveis inconsistências utilizando o comando unique\n",
        "\n",
        "pd.unique(df_pd_2['Date_reported'])\n",
        "pd.unique(df_pd_2['Country_code'])\n",
        "pd.unique(df_pd_2['Country'])\n",
        "pd.unique(df_pd_2['WHO_region'])\n",
        "pd.unique(df_pd_2['New_cases'])\n",
        "pd.unique(df_pd_2['Cumulative_cases'])\n",
        "pd.unique(df_pd_2['New_deaths'])\n",
        "pd.unique(df_pd_2['Cumulative_deaths'])"
      ],
      "metadata": {
        "id": "3kwsPFzNAc0q"
      },
      "execution_count": null,
      "outputs": []
    },
    {
      "cell_type": "markdown",
      "source": [
        "##LIMPEZA DE INCONSISTÊNCIAS ENCONTRADAS df_pd_2"
      ],
      "metadata": {
        "id": "xx4R21mNUjwG"
      }
    },
    {
      "cell_type": "code",
      "source": [
        "# Optamos por dropar a coluna 'Unnamed: 0' do df2\n",
        "\n",
        "df_pd_2.drop(['Unnamed: 0'],axis=1,inplace=True)"
      ],
      "metadata": {
        "id": "yVUbA4m06yWe"
      },
      "execution_count": null,
      "outputs": []
    },
    {
      "cell_type": "code",
      "source": [
        "# Renomeando as colunas\n",
        "df_pd_2.rename(columns={\n",
        "    'Date_reported':'data_relatada',\n",
        "    'Country_code':'cod_pais',\n",
        "    'Country':'pais',\n",
        "    'WHO_region':'regiao_who',\n",
        "    'New_cases':'novos_casos',\n",
        "    'Cumulative_cases':'casos_cumulativos',\n",
        "    'New_deaths':'novas_mortes',\n",
        "    'Cumulative_deaths':'mortes_cumulativas'\n",
        "},inplace=True)"
      ],
      "metadata": {
        "id": "L_X3S567VB8O"
      },
      "execution_count": null,
      "outputs": []
    },
    {
      "cell_type": "code",
      "source": [
        "df_pd_2.head(2)"
      ],
      "metadata": {
        "id": "N1Ppq11tsvke"
      },
      "execution_count": null,
      "outputs": []
    },
    {
      "cell_type": "code",
      "source": [
        "# Renomeando as colunas e valores da coluna 'pais'\n",
        "\n",
        "df_pd_2.replace({'pais':'Afghanistan'}, 'Afeganistão',regex=True, inplace=True)  \n",
        "df_pd_2.replace({'pais':'Albania'}, 'Albânia', regex=True, inplace=True)  \n",
        "df_pd_2.replace({'pais':'Algeria'}, 'Argélia', regex=True, inplace=True)  \n",
        "df_pd_2.replace({'pais':'American Samoa'}, 'Samoa Americana', regex=True, inplace=True)  \n",
        "df_pd_2.replace({'pais':'Andorra'}, 'Andorra', regex=True, inplace=True)  \n",
        "df_pd_2.replace({'pais':'Angola'}, 'Angola', regex=True, inplace=True)  \n",
        "df_pd_2.replace({'pais':'Anguilla'}, 'Anguilla', regex=True, inplace=True)  \n",
        "df_pd_2.replace({'pais':'Antigua and Barbuda'}, 'Antígua e Barbuda', regex=True, inplace=True)  \n",
        "df_pd_2.replace({'pais':'Argentina'}, 'Argentina', regex=True, inplace=True)  \n",
        "df_pd_2.replace({'pais':'Armenia'}, 'Armênia', regex=True, inplace=True)  \n",
        "df_pd_2.replace({'pais':'Aruba'}, 'Aruba', regex=True, inplace=True)  \n",
        "df_pd_2.replace({'pais':'Australia'}, 'Austrália', regex=True, inplace=True)  \n",
        "df_pd_2.replace({'pais':'Austria'}, 'Austria', regex=True, inplace=True)  \n",
        "df_pd_2.replace({'pais':'Azerbaijan'}, 'Azerbaijão', regex=True, inplace=True)  \n",
        "df_pd_2.replace({'pais':'Bahamas'}, 'Bahamas', regex=True, inplace=True)  \n",
        "df_pd_2.replace({'pais':'Bahrain'}, 'Bahrein', regex=True, inplace=True)  \n",
        "df_pd_2.replace({'pais':'Bangladesh'}, 'Bangladesh', regex=True, inplace=True)  \n",
        "df_pd_2.replace({'pais':'Barbados'}, 'Barbados', regex=True, inplace=True)  \n",
        "df_pd_2.replace({'pais':'Belarus'}, 'Bielorrússia', regex=True, inplace=True)  \n",
        "df_pd_2.replace({'pais':'Belgium'}, 'Bélgica', regex=True, inplace=True)  \n",
        "df_pd_2.replace({'pais':'Belize'}, 'Belize', regex=True, inplace=True)  \n",
        "df_pd_2.replace({'pais':'Benin'}, 'Benin', regex=True, inplace=True)  \n",
        "df_pd_2.replace({'pais':'Bermuda'}, 'Bermuda', regex=True, inplace=True)  \n",
        "df_pd_2.replace({'pais':'Bhutan'}, 'Butão', regex=True, inplace=True)  \n",
        "df_pd_2.replace({'pais':'Bolivia (Plurinational State of)'}, 'Bolívia', regex=True, inplace=True)  \n",
        "df_pd_2.replace({'pais':'Bonaire'}, 'Bonaire',regex=True, inplace=True)   \n",
        "df_pd_2.replace({'pais':'Bosnia and Herzegovina'}, 'Bósnia e Herzegovina', regex=True, inplace=True)  \n",
        "df_pd_2.replace({'pais':'Botswana'}, 'Botsuana', regex=True, inplace=True)  \n",
        "df_pd_2.replace({'pais':'Brazil'}, 'Brasil', regex=True, inplace=True)  \n",
        "df_pd_2.replace({'pais':'British Virgin Islands'}, 'Ilhas Virgens Britânicas', regex=True, inplace=True)  \n",
        "df_pd_2.replace({'pais':'Brunei Darussalam'}, 'Brunei Darussalam', regex=True, inplace=True)  \n",
        "df_pd_2.replace({'pais':'Bulgaria'}, 'Bulgária', regex=True, inplace=True)  \n",
        "df_pd_2.replace({'pais':'Burkina Faso'}, 'Burkina Faso', regex=True, inplace=True)  \n",
        "df_pd_2.replace({'pais':'Burundi'}, 'Burundi', regex=True, inplace=True)  \n",
        "df_pd_2.replace({'pais':'Cabo Verde'}, 'Cabo Verde', regex=True, inplace=True)  \n",
        "df_pd_2.replace({'pais':'Cambodia'}, 'Cambodja', regex=True, inplace=True)  \n",
        "df_pd_2.replace({'pais':'Cameroon'}, 'Camarões', regex=True, inplace=True)  \n",
        "df_pd_2.replace({'pais':'Canada'}, 'Canadá', regex=True, inplace=True)  \n",
        "df_pd_2.replace({'pais':'Cayman Islands'}, 'Ilhas Cayman', regex=True, inplace=True)  \n",
        "df_pd_2.replace({'pais':'Central African Republic'}, 'República Centro-Africana', regex=True, inplace=True)  \n",
        "df_pd_2.replace({'pais':'Chad'}, 'Chade', regex=True, inplace=True)  \n",
        "df_pd_2.replace({'pais':'Chile'}, 'Chile', regex=True, inplace=True)  \n",
        "df_pd_2.replace({'pais':'China'}, 'China', regex=True, inplace=True)  \n",
        "df_pd_2.replace({'pais':'Colombia'}, 'Colômbia', regex=True, inplace=True)  \n",
        "df_pd_2.replace({'pais':'Comoros'}, 'Comores', regex=True, inplace=True)  \n",
        "df_pd_2.replace({'pais':'Congo'}, 'Congo', regex=True, inplace=True)  \n",
        "df_pd_2.replace({'pais':'Cook Islands'}, 'Ilhas Cook', regex=True, inplace=True)  \n",
        "df_pd_2.replace({'pais':'Costa Rica'}, 'Costa Rica', regex=True, inplace=True)  \n",
        "df_pd_2.replace({'pais':'Côte d’Ivoire'}, 'Costa do Marfim', regex=True, inplace=True)  \n",
        "df_pd_2.replace({'pais':'Croatia'}, 'Croácia', regex=True, inplace=True)\n",
        "df_pd_2.replace({'pais':'Cuba'}, 'Cuba', regex=True, inplace=True)  \n",
        "df_pd_2.replace({'pais':'Curaçao'}, 'Curaçao', regex=True, inplace=True)  \n",
        "df_pd_2.replace({'pais':'Cyprus'}, 'Chipre', regex=True, inplace=True)  \n",
        "df_pd_2.replace({'pais':'Czechia'}, 'Tchéquia', regex=True, inplace=True)  \n",
        "df_pd_2.replace({'pais':\"Democratic People's Republic of Korea\"}, 'República Popular Democrática da Coreia', regex=True, inplace=True)  \n",
        "df_pd_2.replace({'pais':'Democratic Republic of the Congo'}, 'República Democrática do Congo', regex=True, inplace=True)  \n",
        "df_pd_2.replace({'pais':'Denmark'}, 'Dinamarca', regex=True, inplace=True)  \n",
        "df_pd_2.replace({'pais':'Djibouti'}, 'Djibuti', regex=True, inplace=True)  \n",
        "df_pd_2.replace({'pais':'Dominica'}, 'Domínica', regex=True, inplace=True)  \n",
        "df_pd_2.replace({'pais':'Dominican Republic'}, 'República Dominicana', regex=True, inplace=True)  \n",
        "df_pd_2.replace({'pais':'Ecuador'}, 'Equador', regex=True, inplace=True)  \n",
        "df_pd_2.replace({'pais':'Egypt'}, 'Egito', regex=True, inplace=True)  \n",
        "df_pd_2.replace({'pais':'El Salvador'}, 'El Salvador', regex=True, inplace=True)  \n",
        "df_pd_2.replace({'pais':'Equatorial Guinea'}, 'Guiné Equatorial', regex=True, inplace=True)  \n",
        "df_pd_2.replace({'pais':'Eritrea'}, 'Eritreia', regex=True, inplace=True)  \n",
        "df_pd_2.replace({'pais':'Estonia'}, 'Estônia', regex=True, inplace=True)  \n",
        "df_pd_2.replace({'pais':'Eswatini'}, 'Essuatíni', regex=True, inplace=True)  \n",
        "df_pd_2.replace({'pais':'Ethiopia'}, 'Etiópia', regex=True, inplace=True)  \n",
        "df_pd_2.replace({'pais':'Falkland Islands (Malvinas)'}, 'Malvinas', regex=True, inplace=True)  \n",
        "df_pd_2.replace({'pais':'Faroe Islands'}, 'Ilhas Faroé', regex=True, inplace=True)  \n",
        "df_pd_2.replace({'pais':'Fiji'}, 'Fiji', regex=True, inplace=True)  \n",
        "df_pd_2.replace({'pais':'Finland'}, 'Finlândia', regex=True, inplace=True)  \n",
        "df_pd_2.replace({'pais':'France'}, 'França', regex=True, inplace=True)  \n",
        "df_pd_2.replace({'pais':'French Guiana'}, 'Guiana Francesa', regex=True, inplace=True)  \n",
        "df_pd_2.replace({'pais':'French Polynesia'}, 'Polinésia Francesa', regex=True, inplace=True)\n",
        "df_pd_2.replace({'pais':'Gabon'}, 'Gabão', regex=True, inplace=True)  \n",
        "df_pd_2.replace({'pais':'Gambia'}, 'Gâmbia', regex=True, inplace=True)  \n",
        "df_pd_2.replace({'pais':'Georgia'}, 'Geórgia', regex=True, inplace=True)  \n",
        "df_pd_2.replace({'pais':'Germany'}, 'Alemanha', regex=True, inplace=True)  \n",
        "df_pd_2.replace({'pais':'Ghana'}, 'Gana', regex=True, inplace=True)  \n",
        "df_pd_2.replace({'pais':'Gibraltar'}, 'Gibraltar', regex=True, inplace=True)  \n",
        "df_pd_2.replace({'pais':'Greece'}, 'Grécia', regex=True, inplace=True)  \n",
        "df_pd_2.replace({'pais':'Greenland'}, 'Groenlândia', regex=True, inplace=True)  \n",
        "df_pd_2.replace({'pais':'Grenada'}, 'Granada', regex=True, inplace=True)  \n",
        "df_pd_2.replace({'pais':'Guadeloupe'}, 'Guadalupe', regex=True, inplace=True)  \n",
        "df_pd_2.replace({'pais':'Guam'}, 'Guam', regex=True, inplace=True)  \n",
        "df_pd_2.replace({'pais':'Guatemala'}, 'Guatemala', regex=True, inplace=True)  \n",
        "df_pd_2.replace({'pais':'Guernsey'}, 'Guernesey', regex=True, inplace=True)  \n",
        "df_pd_2.replace({'pais':'Guinea'}, 'Guiné', regex=True, inplace=True)  \n",
        "df_pd_2.replace({'pais':'Guinea-Bissau'}, 'Guiné-Bissau', regex=True, inplace=True)  \n",
        "df_pd_2.replace({'pais':'Guyana'}, 'Guiana', regex=True, inplace=True)  \n",
        "df_pd_2.replace({'pais':'Haiti'}, 'Haiti', regex=True, inplace=True)  \n",
        "df_pd_2.replace({'pais':'Holy See'}, 'Vaticano', regex=True, inplace=True)  \n",
        "df_pd_2.replace({'pais':'Honduras'}, 'Honduras', regex=True, inplace=True)  \n",
        "df_pd_2.replace({'pais':'Hungary'}, 'Hungria', regex=True, inplace=True)  \n",
        "df_pd_2.replace({'pais':'Iceland'}, 'Islândia', regex=True, inplace=True)  \n",
        "df_pd_2.replace({'pais':'India'}, 'Índia', regex=True, inplace=True)  \n",
        "df_pd_2.replace({'pais':'Indonesia'}, 'Indonésia',regex=True, inplace=True)   \n",
        "df_pd_2.replace({'pais':'Iran (Islamic Republic of)'}, 'Irã', regex=True, inplace=True)  \n",
        "df_pd_2.replace({'pais':'Iraq'}, 'Iraque', regex=True, inplace=True)\n",
        "df_pd_2.replace({'pais':'Ireland'}, 'Irlanda', regex=True, inplace=True)  \n",
        "df_pd_2.replace({'pais':'Isle of Man'}, 'Ilha de Man', regex=True, inplace=True)  \n",
        "df_pd_2.replace({'pais':'Israel'}, 'Israel', regex=True, inplace=True)  \n",
        "df_pd_2.replace({'pais':'Italy'}, 'Itália', regex=True, inplace=True)  \n",
        "df_pd_2.replace({'pais':'Jamaica'}, 'Jamaica', regex=True, inplace=True)  \n",
        "df_pd_2.replace({'pais':'Japan'}, 'Japão', regex=True, inplace=True)  \n",
        "df_pd_2.replace({'pais':'Jersey'}, 'Jersey', regex=True, inplace=True)  \n",
        "df_pd_2.replace({'pais':'Jordan'}, 'Jordânia', regex=True, inplace=True)  \n",
        "df_pd_2.replace({'pais':'Kazakhstan'}, 'Cazaquistão', regex=True, inplace=True)  \n",
        "df_pd_2.replace({'pais':'Kenya'}, 'Quênia', regex=True, inplace=True)  \n",
        "df_pd_2.replace({'pais':'Kiribati'}, 'Kiribati', regex=True, inplace=True)  \n",
        "df_pd_2.replace({'pais':'Kosovo[1]'}, 'Kosovo', regex=True, inplace=True)  \n",
        "df_pd_2.replace({'pais':'Kuwait'}, 'Kuwait', regex=True, inplace=True)  \n",
        "df_pd_2.replace({'pais':'Kyrgyzstan'}, 'Quirguistão', regex=True, inplace=True)  \n",
        "df_pd_2.replace({'pais':\"Lao People's Democratic Republic\"}, 'República Democrática Popular do Laos', regex=True, inplace=True)  \n",
        "df_pd_2.replace({'pais':'Latvia'}, 'Letônia', regex=True, inplace=True)  \n",
        "df_pd_2.replace({'pais':'Lebanon'}, 'Líbano', regex=True, inplace=True)  \n",
        "df_pd_2.replace({'pais':'Lesotho'}, 'Lesoto', regex=True, inplace=True)  \n",
        "df_pd_2.replace({'pais':'Liberia'}, 'Libéria', regex=True, inplace=True)  \n",
        "df_pd_2.replace({'pais':'Libya'}, 'Líbia', regex=True, inplace=True)  \n",
        "df_pd_2.replace({'pais':'Liechtenstein'}, 'Liechtenstein', regex=True, inplace=True)  \n",
        "df_pd_2.replace({'pais':'Lithuania'}, 'Lituânia', regex=True, inplace=True)  \n",
        "df_pd_2.replace({'pais':'Luxembourg'}, 'Luxemburgo', regex=True, inplace=True)  \n",
        "df_pd_2.replace({'pais':'Madagascar'}, 'Madagascar', regex=True, inplace=True)  \n",
        "df_pd_2.replace({'pais':'Malawi'}, 'Malawi', regex=True, inplace=True)\n",
        "df_pd_2.replace({'pais':'Malaysia'}, 'Malásia', regex=True, inplace=True)  \n",
        "df_pd_2.replace({'pais':'Maldives'}, 'Maldivas', regex=True, inplace=True)  \n",
        "df_pd_2.replace({'pais':'Mali'}, 'Mali', regex=True, inplace=True)  \n",
        "df_pd_2.replace({'pais':'Malta'}, 'Malta', regex=True, inplace=True)  \n",
        "df_pd_2.replace({'pais':'Marshall Islands'}, 'Ilhas Marshall',regex=True, inplace=True)   \n",
        "df_pd_2.replace({'pais':'Martinique'}, 'Martinica', regex=True, inplace=True)  \n",
        "df_pd_2.replace({'pais':'Mauritania'}, 'Mauritânia', regex=True, inplace=True)  \n",
        "df_pd_2.replace({'pais':'Mauritius'}, 'Maurício', regex=True, inplace=True)  \n",
        "df_pd_2.replace({'pais':'Mayotte'}, 'Maiote', regex=True, inplace=True)  \n",
        "df_pd_2.replace({'pais':'Mexico'}, 'México', regex=True, inplace=True)  \n",
        "df_pd_2.replace({'pais':'Micronesia (Federated States of)'}, 'Estados Federados da Micronésia', regex=True, inplace=True)  \n",
        "df_pd_2.replace({'pais':'Monaco'}, 'Mônaco', regex=True, inplace=True)  \n",
        "df_pd_2.replace({'pais':'Mongolia'}, 'Mongólia', regex=True, inplace=True)  \n",
        "df_pd_2.replace({'pais':'Montenegro'}, 'Montenegro', regex=True, inplace=True)  \n",
        "df_pd_2.replace({'pais':'Montserrat'}, 'Montserrat', regex=True, inplace=True)  \n",
        "df_pd_2.replace({'pais':'Morocco'}, 'Marrocos', regex=True, inplace=True)  \n",
        "df_pd_2.replace({'pais':'Mozambique'}, 'Moçambique', regex=True, inplace=True)  \n",
        "df_pd_2.replace({'pais':'Myanmar'}, 'Mianmar', regex=True, inplace=True)  \n",
        "df_pd_2.replace({'pais':'Namibia'}, 'Namíbia', regex=True, inplace=True)  \n",
        "df_pd_2.replace({'pais':'Nauru'}, 'Nauru', regex=True, inplace=True)  \n",
        "df_pd_2.replace({'pais':'Nepal'}, 'Nepal', regex=True, inplace=True)  \n",
        "df_pd_2.replace({'pais':'Netherlands'}, 'Países Baixos', regex=True, inplace=True)  \n",
        "df_pd_2.replace({'pais':'New Caledonia'}, 'Nova Caledônia', regex=True, inplace=True)  \n",
        "df_pd_2.replace({'pais':'New Zealand'}, 'Nova Zelândia', regex=True, inplace=True)  \n",
        "df_pd_2.replace({'pais':'Nicaragua'}, 'Nicarágua', regex=True, inplace=True)\n",
        "df_pd_2.replace({'pais':'Niger'}, 'Níger', regex=True, inplace=True)  \n",
        "df_pd_2.replace({'pais':'Nigeria'}, 'Nigéria', regex=True, inplace=True)  \n",
        "df_pd_2.replace({'pais':'Niue'}, 'Niue', regex=True, inplace=True)  \n",
        "df_pd_2.replace({'pais':'North Macedonia'}, 'Macedônia do Norte', regex=True, inplace=True)  \n",
        "df_pd_2.replace({'pais':'Northern Mariana Islands (Commonwealth of the)'}, 'Comunidades das Ilhas Marianas do Norte', regex=True, inplace=True)  \n",
        "df_pd_2.replace({'pais':'Norway'}, 'Noruega', regex=True, inplace=True)  \n",
        "df_pd_2.replace({'pais':'occupied Palestinian territory, including east Jerusalem'}, 'Território Palestino ocupado, incluindo Jerusalém Oriental',regex=True, inplace=True)   \n",
        "df_pd_2.replace({'pais':'Oman'}, 'Omã', regex=True, inplace=True)  \n",
        "df_pd_2.replace({'pais':'Other'}, 'Other',regex=True, inplace=True)   \n",
        "df_pd_2.replace({'pais':'Pakistan'}, 'Paquistão', regex=True, inplace=True)  \n",
        "df_pd_2.replace({'pais':'Palau'}, 'Palau', regex=True, inplace=True)  \n",
        "df_pd_2.replace({'pais':'Panama'}, 'Panamá', regex=True, inplace=True)  \n",
        "df_pd_2.replace({'pais':'Papua New Guinea'}, 'Papua Nova Guiné', regex=True, inplace=True)  \n",
        "df_pd_2.replace({'pais':'Paraguay'}, 'Paraguai', regex=True, inplace=True)  \n",
        "df_pd_2.replace({'pais':'Peru'}, 'Peru', regex=True, inplace=True)  \n",
        "df_pd_2.replace({'pais':'Philippines'}, 'Filipinas', regex=True, inplace=True)  \n",
        "df_pd_2.replace({'pais':'Pitcairn Islands'}, 'Ilhas Pitcairn', regex=True, inplace=True)  \n",
        "df_pd_2.replace({'pais':'Poland'}, 'Polônia', regex=True, inplace=True)  \n",
        "df_pd_2.replace({'pais':'Portugal'}, 'Portugal', regex=True, inplace=True)  \n",
        "df_pd_2.replace({'pais':'Puerto Rico'}, 'Porto Rico', regex=True, inplace=True)  \n",
        "df_pd_2.replace({'pais':'Qatar'}, 'Catar', regex=True, inplace=True)  \n",
        "df_pd_2.replace({'pais':'Republic of Korea'}, 'República da Coreia', regex=True, inplace=True)  \n",
        "df_pd_2.replace({'pais':'Republic of Moldova'}, 'República da Moldávia', regex=True, inplace=True)  \n",
        "df_pd_2.replace({'pais':'Réunion'}, 'Réunion', regex=True, inplace=True)  \n",
        "df_pd_2.replace({'pais':'Romania'}, 'Romênia', regex=True, inplace=True)\n",
        "df_pd_2.replace({'pais':'Russian Federation'}, 'Federação Russa', regex=True, inplace=True)  \n",
        "df_pd_2.replace({'pais':'Rwanda'}, 'Ruanda', regex=True, inplace=True)  \n",
        "df_pd_2.replace({'pais':'Saba'}, 'Saba', regex=True, inplace=True)  \n",
        "df_pd_2.replace({'pais':'Saint Barthélemy'}, 'São Bartolomeu', regex=True, inplace=True)  \n",
        "df_pd_2.replace({'pais':'Saint Helena, Ascension and Tristan da Cunha'}, 'Santa Helena, Ascensão e Tristão da Cunha', regex=True, inplace=True)  \n",
        "df_pd_2.replace({'pais':'Saint Kitts and Nevis'}, 'São Cristóvão e Nevis', regex=True, inplace=True)  \n",
        "df_pd_2.replace({'pais':'Saint Lucia'}, 'Santa Lúcia', regex=True, inplace=True)  \n",
        "df_pd_2.replace({'pais':'Saint Martin'}, 'São Martinho', regex=True, inplace=True)  \n",
        "df_pd_2.replace({'pais':'Saint Pierre and Miquelon'}, 'São Pedro e Miquelon', regex=True, inplace=True)  \n",
        "df_pd_2.replace({'pais':'Saint Vincent and the Grenadines'}, 'São Vicente e Granadinas', regex=True, inplace=True)  \n",
        "df_pd_2.replace({'pais':'Samoa'}, 'Samoa', regex=True, inplace=True)  \n",
        "df_pd_2.replace({'pais':'San Marino'}, 'San Marino', regex=True, inplace=True)  \n",
        "df_pd_2.replace({'pais':'Sao Tome and Principe'}, 'São Tomé e Príncipe', regex=True, inplace=True)  \n",
        "df_pd_2.replace({'pais':'Saudi Arabia'}, 'Arábia Saudita', regex=True, inplace=True)  \n",
        "df_pd_2.replace({'pais':'Senegal'}, 'Senegal', regex=True, inplace=True)  \n",
        "df_pd_2.replace({'pais':'Serbia'}, 'Sérvia', regex=True, inplace=True)  \n",
        "df_pd_2.replace({'pais':'Seychelles'}, 'Seicheles',regex=True, inplace=True)   \n",
        "df_pd_2.replace({'pais':'Sierra Leone'}, 'Serra Leoa', regex=True, inplace=True)        \n",
        "df_pd_2.replace({'pais':'Singapore'}, 'Cingapura', regex=True, inplace=True)  \n",
        "df_pd_2.replace({'pais':'Sint Eustatius'}, 'Santo Eustáquio', regex=True, inplace=True)  \n",
        "df_pd_2.replace({'pais':'Sint Maarten'}, 'Sint Maarten', regex=True, inplace=True)  \n",
        "df_pd_2.replace({'pais':'Slovakia'}, 'Eslováquia', regex=True, inplace=True)  \n",
        "df_pd_2.replace({'pais':'Slovenia'}, 'Eslovênia', regex=True, inplace=True)  \n",
        "df_pd_2.replace({'pais':'Solomon Islands'}, 'Ilhas Salomão', regex=True, inplace=True)  \n",
        "df_pd_2.replace({'pais':'Somalia'}, 'Somália', regex=True, inplace=True)\n",
        "df_pd_2.replace({'pais':'South Africa'}, 'África do Sul', regex=True, inplace=True)  \n",
        "df_pd_2.replace({'pais':'South Sudan'}, 'Sudão do Sul', regex=True, inplace=True)  \n",
        "df_pd_2.replace({'pais':'Spain'}, 'Espanha', regex=True, inplace=True)  \n",
        "df_pd_2.replace({'pais':'Sri Lanka'}, 'Sri Lanka', regex=True, inplace=True)  \n",
        "df_pd_2.replace({'pais':'Sudan'}, 'Sudão', regex=True, inplace=True)  \n",
        "df_pd_2.replace({'pais':'Suriname'}, 'Suriname', regex=True, inplace=True)  \n",
        "df_pd_2.replace({'pais':'Sweden'}, 'Suécia',regex=True, inplace=True)   \n",
        "df_pd_2.replace({'pais':'Switzerland'}, 'Suiça', regex=True, inplace=True)  \n",
        "df_pd_2.replace({'pais':'Syrian Arab Republic'}, 'República Árabe da Síria',  regex=True, inplace=True)        \n",
        "df_pd_2.replace({'pais':'Tajikistan'}, 'Tajiquistão', regex=True, inplace=True)  \n",
        "df_pd_2.replace({'pais':'Thailand'}, 'Tailândia', regex=True, inplace=True)  \n",
        "df_pd_2.replace({'pais':'The United Kingdom'}, 'Reino Unido', regex=True, inplace=True)  \n",
        "df_pd_2.replace({'pais':'Timor-Leste'}, 'Timor-Leste', regex=True, inplace=True)  \n",
        "df_pd_2.replace({'pais':'Togo'}, 'Togo', regex=True, inplace=True)  \n",
        "df_pd_2.replace({'pais':'Tokelau'}, 'Tokelau', regex=True, inplace=True)  \n",
        "df_pd_2.replace({'pais':'Tonga'}, 'Tonga', regex=True, inplace=True)  \n",
        "df_pd_2.replace({'pais':'Trinidad and Tobago'}, 'Trindade e Tobago',regex=True, inplace=True)   \n",
        "df_pd_2.replace({'pais':'Tunisia'}, 'Tunísia', regex=True, inplace=True)  \n",
        "df_pd_2.replace({'pais':'Türkiye'}, 'Turquia',regex=True, inplace=True)   \n",
        "df_pd_2.replace({'pais':'Turkmenistan'}, 'Turquemenistão', regex=True, inplace=True)  \n",
        "df_pd_2.replace({'pais':'Turks and Caicos Islands'}, 'Ilhas Turcas e Caicos',  regex=True, inplace=True)        \n",
        "df_pd_2.replace({'pais':'Tuvalu'}, 'Tuvalu', regex=True, inplace=True)  \n",
        "df_pd_2.replace({'pais':'Uganda'}, 'Uganda',regex=True, inplace=True)  \n",
        "df_pd_2.replace({'pais':'Ukraine'}, 'Ucrânia', regex=True, inplace=True)  \n",
        "df_pd_2.replace({'pais':'United Arab Emirates'}, 'Emirados Árabes Unidos',regex=True, inplace=True)\n",
        "df_pd_2.replace({'pais':'United Republic of Tanzania'}, 'República Unida da Tanzânia', regex=True, inplace=True)  \n",
        "df_pd_2.replace({'pais':'United States of America'}, 'Estados Unidos da America', regex=True, inplace=True)  \n",
        "df_pd_2.replace({'pais':'United States Virgin Islands'}, 'Ilhas Virgens dos Estados Unidos', regex=True, inplace=True)  \n",
        "df_pd_2.replace({'pais':'Uruguay'}, 'Uruguai', regex=True, inplace=True)  \n",
        "df_pd_2.replace({'pais':'Uzbekistan'}, 'Uzbequistão',regex=True, inplace=True)   \n",
        "df_pd_2.replace({'pais':'Vanuatu'}, 'Vanuatu',  regex=True, inplace=True)        \n",
        "df_pd_2.replace({'pais':'Venezuela (Bolivarian Republic of)'}, 'República Bolivariana da Venezuela', regex=True, inplace=True)  \n",
        "df_pd_2.replace({'pais':'Viet Nam'}, 'Vietnã', regex=True, inplace=True)  \n",
        "df_pd_2.replace({'pais':'Wallis and Futuna'}, 'Wallis e Futuna',regex=True, inplace=True)  \n",
        "df_pd_2.replace({'pais':'Yemen'}, 'Iémen', regex=True, inplace=True)  \n",
        "df_pd_2.replace({'pais':'Zambia'}, 'Zâmbia',regex=True, inplace=True)  \n",
        "df_pd_2.replace({'pais':'Zimbabwe'}, 'Zimbábue', regex=True, inplace=True)"
      ],
      "metadata": {
        "id": "GhG-KWXbVNym"
      },
      "execution_count": null,
      "outputs": []
    },
    {
      "cell_type": "code",
      "source": [
        "df_pd_2.head(2)"
      ],
      "metadata": {
        "id": "CUZ5wRGYeH0H"
      },
      "execution_count": null,
      "outputs": []
    },
    {
      "cell_type": "code",
      "source": [
        "# Renomeando a colunas 'região_Who'\n",
        "\n",
        "df_pd_2.replace({'regiao_who':'EMRO'}, 'Mediterrâneo Oriental',regex=True, inplace=True)\n",
        "df_pd_2.replace({'regiao_who':'EURO'}, 'Europa',regex=True, inplace=True)\n",
        "df_pd_2.replace({'regiao_who':'AFRO'}, 'África',regex=True, inplace=True)\n",
        "df_pd_2.replace({'regiao_who':'WPRO'}, 'Pacífico Ocidental',regex=True, inplace=True)\n",
        "df_pd_2.replace({'regiao_who':'AMRO'}, 'Américas',regex=True, inplace=True)\n",
        "df_pd_2.replace({'regiao_who':'SEARO'}, 'Sudeste Asiático',regex=True, inplace=True)\n",
        "df_pd_2.replace({'regiao_who':'Other'}, 'Outro',regex=True, inplace=True)"
      ],
      "metadata": {
        "id": "6vK4PXSuVsL-"
      },
      "execution_count": null,
      "outputs": []
    },
    {
      "cell_type": "code",
      "source": [
        "# Visualizando as alterações feitas\n",
        "df_pd_2.head(2)\n",
        "# 257382 rows × 8 columns"
      ],
      "metadata": {
        "id": "iONMMHNXWFfW"
      },
      "execution_count": null,
      "outputs": []
    },
    {
      "cell_type": "code",
      "source": [
        "# Verificando a quantidade de valores nulos\n",
        "df_pd_2.isna().sum()"
      ],
      "metadata": {
        "id": "nADzbFY2WJNO"
      },
      "execution_count": null,
      "outputs": []
    },
    {
      "cell_type": "markdown",
      "source": [
        "REALIZANDO OS FILTROS NAS REGIÕES"
      ],
      "metadata": {
        "id": "iMwZs8u-WgBV"
      }
    },
    {
      "cell_type": "code",
      "source": [
        "# Filtros para retorno dos valores da coluna 'novos_casos', 'casos_cumulativos', 'novas_mortes' e 'mortes_cumulativas' em que somente houveram registros"
      ],
      "metadata": {
        "id": "SXJvMtaFF_7N"
      },
      "execution_count": null,
      "outputs": []
    },
    {
      "cell_type": "code",
      "source": [
        "# Filtro na região EMRO"
      ],
      "metadata": {
        "id": "kzM3jaweWhfN"
      },
      "execution_count": null,
      "outputs": []
    },
    {
      "cell_type": "code",
      "source": [
        "# Filtro parte I\n",
        "filtro1 = df_pd_2.regiao_who == 'Mediterrâneo Oriental'\n",
        "df_f1 = df_pd_2.loc[filtro1]\n",
        "df_f1\n",
        "# 23892 rows"
      ],
      "metadata": {
        "id": "ZduNKCjRWkuG"
      },
      "execution_count": null,
      "outputs": []
    },
    {
      "cell_type": "code",
      "source": [
        "# Filtro parte II\n",
        "filtro1_1 = (df_f1.novos_casos != 0) | (df_f1.casos_cumulativos != 0) | (df_f1.novas_mortes != 0) | (df_f1.mortes_cumulativas != 0)\n",
        "df_f1_1 = df_f1.loc[filtro1_1]\n",
        "df_f1_1\n",
        "# novos casos 18536"
      ],
      "metadata": {
        "id": "Pe8lq1gvWuIW"
      },
      "execution_count": null,
      "outputs": []
    },
    {
      "cell_type": "code",
      "source": [
        "# Filtro na região EURO"
      ],
      "metadata": {
        "id": "P_gObnfyW0r_"
      },
      "execution_count": null,
      "outputs": []
    },
    {
      "cell_type": "code",
      "source": [
        "# Filtro parte I\n",
        "filtro2 = df_pd_2.regiao_who == 'Europa'\n",
        "df_f2 = df_pd_2.loc[filtro2]\n",
        "df_f2"
      ],
      "metadata": {
        "id": "vrQL-G0QXP62"
      },
      "execution_count": null,
      "outputs": []
    },
    {
      "cell_type": "code",
      "source": [
        "# Filtro parte II - Filtro para remover linhas que sejam todas com valores Nan/0\n",
        "filtro2_1 = (df_f2.novos_casos != 0) | (df_f2.casos_cumulativos != 0) | (df_f2.novas_mortes != 0) | (df_f2.mortes_cumulativas != 0)\n",
        "df_f2_1 = df_f2.loc[filtro2_1]\n",
        "df_f2_1"
      ],
      "metadata": {
        "id": "9waJTADAXe9e"
      },
      "execution_count": null,
      "outputs": []
    },
    {
      "cell_type": "code",
      "source": [
        "# Filtro na região AFRO"
      ],
      "metadata": {
        "id": "1Po4hXF6XjSt"
      },
      "execution_count": null,
      "outputs": []
    },
    {
      "cell_type": "code",
      "source": [
        "# Filtro parte I\n",
        "filtro3 = df_pd_2.regiao_who == 'África'\n",
        "df_f3 = df_pd_2.loc[filtro3]\n",
        "df_f3"
      ],
      "metadata": {
        "id": "uBJqIVH6XmRO"
      },
      "execution_count": null,
      "outputs": []
    },
    {
      "cell_type": "code",
      "source": [
        "# Filtro parte II\n",
        "filtro3_1 = (df_f3.novos_casos != 0) | (df_f3.casos_cumulativos != 0) | (df_f3.novas_mortes != 0) | (df_f3.mortes_cumulativas != 0)\n",
        "df_f3_1 = df_f3.loc[filtro3_1]\n",
        "df_f3_1\n"
      ],
      "metadata": {
        "id": "JJjWrw9VXtbN"
      },
      "execution_count": null,
      "outputs": []
    },
    {
      "cell_type": "code",
      "source": [
        "# Filtro da região WPRO"
      ],
      "metadata": {
        "id": "fKmuuSSnXwno"
      },
      "execution_count": null,
      "outputs": []
    },
    {
      "cell_type": "code",
      "source": [
        "# Filtro parte I\n",
        "filtro4 = df_pd_2.regiao_who == 'Pacífico Ocidental'\n",
        "df_f4 = df_pd_2.loc[filtro4]\n",
        "df_f4"
      ],
      "metadata": {
        "id": "0QJ-mQcFX3Qq"
      },
      "execution_count": null,
      "outputs": []
    },
    {
      "cell_type": "code",
      "source": [
        "# Filtro parte II\n",
        "filtro4_1 = (df_f4.novos_casos != 0) | (df_f4.casos_cumulativos != 0) | (df_f4.novas_mortes != 0) | (df_f4.mortes_cumulativas != 0)\n",
        "df_f4_1 = df_f4.loc[filtro4_1]\n",
        "df_f4_1"
      ],
      "metadata": {
        "id": "sF8aVRfXX_P_"
      },
      "execution_count": null,
      "outputs": []
    },
    {
      "cell_type": "code",
      "source": [
        "# Filtro da região AMRO"
      ],
      "metadata": {
        "id": "yFvPzB_oYIOG"
      },
      "execution_count": null,
      "outputs": []
    },
    {
      "cell_type": "code",
      "source": [
        "# Filtro parte I\n",
        "filtro5 = df_pd_2.regiao_who == 'Américas'\n",
        "df_f5 = df_pd_2.loc[filtro5]\n",
        "df_f5"
      ],
      "metadata": {
        "id": "00m3i0QiYJkA"
      },
      "execution_count": null,
      "outputs": []
    },
    {
      "cell_type": "code",
      "source": [
        "# Filtro parte II\n",
        "filtro5_1 = (df_f5.novos_casos != 0) | (df_f5.casos_cumulativos != 0) | (df_f5.novas_mortes != 0) | (df_f5.mortes_cumulativas != 0)\n",
        "df_f5_1 = df_f5.loc[filtro5_1]\n",
        "df_f5_1"
      ],
      "metadata": {
        "id": "d3JOjDWvYSPv"
      },
      "execution_count": null,
      "outputs": []
    },
    {
      "cell_type": "code",
      "source": [
        "# Filtro da região SEARO"
      ],
      "metadata": {
        "id": "_hzBkN8JYTm3"
      },
      "execution_count": null,
      "outputs": []
    },
    {
      "cell_type": "code",
      "source": [
        "# Filtro parte I\n",
        "filtro6 = df_pd_2.regiao_who == 'Sudeste Asiático'\n",
        "df_f6 = df_pd_2.loc[filtro6]\n",
        "df_f6"
      ],
      "metadata": {
        "id": "OhmtC6UnYo81"
      },
      "execution_count": null,
      "outputs": []
    },
    {
      "cell_type": "code",
      "source": [
        "# Filtro parte II\n",
        "filtro6_1 = (df_f6.novos_casos != 0) | (df_f6.casos_cumulativos != 0) | (df_f6.novas_mortes != 0) | (df_f6.mortes_cumulativas != 0)\n",
        "df_f6_1 = df_f6.loc[filtro6_1]\n",
        "df_f6_1\n",
        " "
      ],
      "metadata": {
        "id": "w8LjmI7tYypV"
      },
      "execution_count": null,
      "outputs": []
    },
    {
      "cell_type": "code",
      "source": [
        "# Filtro das regiões não informadas"
      ],
      "metadata": {
        "id": "UOmQk-XlYz7m"
      },
      "execution_count": null,
      "outputs": []
    },
    {
      "cell_type": "code",
      "source": [
        "# Filtro parte I\n",
        "filtro7 = df_pd_2.regiao_who == 'Outro'\n",
        "df_f7 = df_pd_2.loc[filtro7]\n",
        "df_f7"
      ],
      "metadata": {
        "id": "JQQFbYMwY6v9"
      },
      "execution_count": null,
      "outputs": []
    },
    {
      "cell_type": "code",
      "source": [
        "# Filtro parte II\n",
        "filtro7_1 = (df_f7.novos_casos != 0) | (df_f7.casos_cumulativos != 0) | (df_f7.novas_mortes != 0) | (df_f7.mortes_cumulativas != 0)\n",
        "df_f7_1 = df_f7.loc[filtro7_1]\n",
        "df_f7_1"
      ],
      "metadata": {
        "id": "bMazylFoY80l"
      },
      "execution_count": null,
      "outputs": []
    },
    {
      "cell_type": "markdown",
      "source": [
        "CONCATENANDO OS DATAS FRAMES QUE FORAM FILTRADOS EM UM SÓ"
      ],
      "metadata": {
        "id": "nQOdv3_GZL_-"
      }
    },
    {
      "cell_type": "code",
      "source": [
        "# Foi feito a concatenação \n",
        "df_pd_2_final = pd.concat([df_f1_1, df_f2_1, df_f3_1, df_f4_1, df_f5_1, df_f6_1, df_f7_1], ignore_index = True)\n",
        "# Total de linhas inicial 257382, final 29841 - 161385 "
      ],
      "metadata": {
        "id": "SzPD2YvtZNju"
      },
      "execution_count": null,
      "outputs": []
    },
    {
      "cell_type": "code",
      "source": [
        "# Verificação da concatenação\n",
        "df_pd_2_final.head(3)"
      ],
      "metadata": {
        "id": "86ArKAlCZffO"
      },
      "execution_count": null,
      "outputs": []
    },
    {
      "cell_type": "markdown",
      "source": [
        "##TRATAMENTO DO df_pd_3"
      ],
      "metadata": {
        "id": "zqkBM5Ga_P4j"
      }
    },
    {
      "cell_type": "code",
      "source": [
        "# Verificação de cada coluna com o objetivo de encontrar possíveis inconsistências"
      ],
      "metadata": {
        "id": "hX-8nKXPFotx"
      },
      "execution_count": null,
      "outputs": []
    },
    {
      "cell_type": "code",
      "source": [
        "df_pd_3.head(2)"
      ],
      "metadata": {
        "id": "lSIhySruDWwz"
      },
      "execution_count": null,
      "outputs": []
    },
    {
      "cell_type": "code",
      "source": [
        "# Renomear a coluna 'Unnamed: 0' para 'pais'\n",
        "\n",
        "df_pd_3.rename(columns={'Unnamed: 0':'pais'}, inplace=True)"
      ],
      "metadata": {
        "id": "dmcqh2dffO8W"
      },
      "execution_count": null,
      "outputs": []
    },
    {
      "cell_type": "code",
      "source": [
        "# Verificação de cada coluna com o objetivo de encontrar possíveis inconsistências utilizando o comando unique\n",
        "\n",
        "pd.unique(df_pd_3['pais'])\n",
        "pd.unique(df_pd_3['Name'])\n",
        "pd.unique(df_pd_3['WHO Region'])\n",
        "pd.unique(df_pd_3['Cases - cumulative total'])\n",
        "pd.unique(df_pd_3['Cases - cumulative total per 100000 population'])\n",
        "pd.unique(df_pd_3['Cases - newly reported in last 7 days'])\n",
        "pd.unique(df_pd_3['Cases - newly reported in last 7 days per 100000 population'])\n",
        "pd.unique(df_pd_3['Cases - newly reported in last 24 hours'])\n",
        "pd.unique(df_pd_3['Deaths - cumulative total'])\n",
        "pd.unique(df_pd_3['Deaths - cumulative total per 100000 population'])\n",
        "pd.unique(df_pd_3['Deaths - newly reported in last 7 days'])\n",
        "pd.unique(df_pd_3['Deaths - newly reported in last 7 days per 100000 population'])\n",
        "pd.unique(df_pd_3['Deaths - newly reported in last 24 hours'])"
      ],
      "metadata": {
        "id": "p3B3qw0-BjXl",
        "colab": {
          "base_uri": "https://localhost:8080/"
        },
        "outputId": "abb50770-e910-434a-f063-d2efa46e471e"
      },
      "execution_count": null,
      "outputs": [
        {
          "output_type": "execute_result",
          "data": {
            "text/plain": [
              "array([nan])"
            ]
          },
          "metadata": {},
          "execution_count": 30
        }
      ]
    },
    {
      "cell_type": "markdown",
      "source": [
        "##LIMPEZA DE INCONSISTÊNCIAS ENCONTRADAS df_pd_3"
      ],
      "metadata": {
        "id": "pw5eh2K0GVDd"
      }
    },
    {
      "cell_type": "code",
      "source": [
        "# Antes da limpeza das colunas, faz-se necessário renomear assim como traduzir, para além de facilitar o entendimento\n",
        "# dos datasets, facilitar tambem a manipulação dos dados."
      ],
      "metadata": {
        "id": "j0qD8nioGfhS"
      },
      "execution_count": null,
      "outputs": []
    },
    {
      "cell_type": "code",
      "source": [
        "# Renomear colunas da tabela 3\n",
        "\n",
        "df_pd_3.rename(columns={\n",
        "                   'Unnamed: 0':'pais',\n",
        "                   'Name':'regiao',\n",
        "                   'WHO Region':'oms_regiao2',\n",
        "                   'Cases - cumulative total':'casos_cumulativos_totais',\n",
        "                   'Cases - cumulative total per 100000 population':'casos_cumulativos_por_100mil_hab',\n",
        "                   'Cases - newly reported in last 7 days':'casos_nos_ultimos_7dias',\n",
        "                   'Cases - newly reported in last 7 days per 100000 population':'casos_nos_ultimos_7dias_por_100mil_hab',\n",
        "                   'Cases - newly reported in last 24 hours':'casos_nas_ultimas_24hrs',\n",
        "                   'Deaths - cumulative total':'mortes_cumulativas_totais',\n",
        "                   'Deaths - cumulative total per 100000 population':'mortes_cumulativas_totais_por_100mil_hab',\n",
        "                   'Deaths - newly reported in last 7 days':'mortes_nos_ultimos_7dias',\n",
        "                   'Deaths - newly reported in last 7 days per 100000 population':'mortes_nos_ultimos_7dias_por_100mil_hab',\n",
        "                   'Deaths - newly reported in last 24 hours':'mortes_nas_ultimas_24hrs',\n",
        "                   'Unnamed: 0':'pais2'              \n",
        "                  }, inplace=True)"
      ],
      "metadata": {
        "id": "JeW_-e5_GrAR"
      },
      "execution_count": null,
      "outputs": []
    },
    {
      "cell_type": "code",
      "source": [
        "df_pd_3.head(2)"
      ],
      "metadata": {
        "id": "hzXA_rYWzHd7"
      },
      "execution_count": null,
      "outputs": []
    },
    {
      "cell_type": "code",
      "source": [
        "# Renomear nome dos países da tabela 3\n",
        "\n",
        "df_pd_3.replace({'pais':'Afghanistan'}, 'Afeganistão',regex=True, inplace=True)  \n",
        "df_pd_3.replace({'pais':'Albania'}, 'Albânia', regex=True, inplace=True)  \n",
        "df_pd_3.replace({'pais':'Algeria'}, 'Argélia', regex=True, inplace=True)  \n",
        "df_pd_3.replace({'pais':'American Samoa'}, 'Samoa Americana', regex=True, inplace=True)  \n",
        "df_pd_3.replace({'pais':'Andorra'}, 'Andorra', regex=True, inplace=True)  \n",
        "df_pd_3.replace({'pais':'Angola'}, 'Angola', regex=True, inplace=True)  \n",
        "df_pd_3.replace({'pais':'Anguilla'}, 'Anguilla', regex=True, inplace=True)  \n",
        "df_pd_3.replace({'pais':'Antigua and Barbuda'}, 'Antígua e Barbuda', regex=True, inplace=True)  \n",
        "df_pd_3.replace({'pais':'Argentina'}, 'Argentina', regex=True, inplace=True)  \n",
        "df_pd_3.replace({'pais':'Armenia'}, 'Armênia', regex=True, inplace=True)  \n",
        "df_pd_3.replace({'pais':'Aruba'}, 'Aruba', regex=True, inplace=True)  \n",
        "df_pd_3.replace({'pais':'Australia'}, 'Austrália', regex=True, inplace=True)  \n",
        "df_pd_3.replace({'pais':'Austria'}, 'Austria', regex=True, inplace=True)  \n",
        "df_pd_3.replace({'pais':'Azerbaijan'}, 'Azerbaijão', regex=True, inplace=True)  \n",
        "df_pd_3.replace({'pais':'Bahamas'}, 'Bahamas', regex=True, inplace=True)  \n",
        "df_pd_3.replace({'pais':'Bahrain'}, 'Bahrein', regex=True, inplace=True)  \n",
        "df_pd_3.replace({'pais':'Bangladesh'}, 'Bangladesh', regex=True, inplace=True)  \n",
        "df_pd_3.replace({'pais':'Barbados'}, 'Barbados', regex=True, inplace=True)  \n",
        "df_pd_3.replace({'pais':'Belarus'}, 'Bielorrússia', regex=True, inplace=True)  \n",
        "df_pd_3.replace({'pais':'Belgium'}, 'Bélgica', regex=True, inplace=True)  \n",
        "df_pd_3.replace({'pais':'Belize'}, 'Belize', regex=True, inplace=True)  \n",
        "df_pd_3.replace({'pais':'Benin'}, 'Benin', regex=True, inplace=True)  \n",
        "df_pd_3.replace({'pais':'Bermuda'}, 'Bermuda', regex=True, inplace=True)  \n",
        "df_pd_3.replace({'pais':'Bhutan'}, 'Butão', regex=True, inplace=True)  \n",
        "df_pd_3.replace({'pais':'Bolivia (Plurinational State of)'}, 'Bolívia', regex=True, inplace=True)\n",
        "df_pd_3.replace({'pais':'Bonaire'}, 'Bonaire',regex=True, inplace=True)   \n",
        "df_pd_3.replace({'pais':'Bosnia and Herzegovina'}, 'Bósnia e Herzegovina', regex=True, inplace=True)  \n",
        "df_pd_3.replace({'pais':'Botswana'}, 'Botsuana', regex=True, inplace=True)  \n",
        "df_pd_3.replace({'pais':'Brazil'}, 'Brasil', regex=True, inplace=True)  \n",
        "df_pd_3.replace({'pais':'British Virgin Islands'}, 'Ilhas Virgens Britânicas', regex=True, inplace=True)  \n",
        "df_pd_3.replace({'pais':'Brunei Darussalam'}, 'Brunei Darussalam', regex=True, inplace=True)  \n",
        "df_pd_3.replace({'pais':'Bulgaria'}, 'Bulgária', regex=True, inplace=True)  \n",
        "df_pd_3.replace({'pais':'Burkina Faso'}, 'Burkina Faso', regex=True, inplace=True)  \n",
        "df_pd_3.replace({'pais':'Burundi'}, 'Burundi', regex=True, inplace=True)  \n",
        "df_pd_3.replace({'pais':'Cabo Verde'}, 'Cabo Verde', regex=True, inplace=True)  \n",
        "df_pd_3.replace({'pais':'Cambodia'}, 'Cambodja', regex=True, inplace=True)  \n",
        "df_pd_3.replace({'pais':'Cameroon'}, 'Camarões', regex=True, inplace=True)  \n",
        "df_pd_3.replace({'pais':'Canada'}, 'Canadá', regex=True, inplace=True)  \n",
        "df_pd_3.replace({'pais':'Cayman Islands'}, 'Ilhas Cayman', regex=True, inplace=True)  \n",
        "df_pd_3.replace({'pais':'Central African Republic'}, 'República Centro-Africana', regex=True, inplace=True)  \n",
        "df_pd_3.replace({'pais':'Chad'}, 'Chade', regex=True, inplace=True)  \n",
        "df_pd_3.replace({'pais':'Chile'}, 'Chile', regex=True, inplace=True)  \n",
        "df_pd_3.replace({'pais':'China'}, 'China', regex=True, inplace=True)  \n",
        "df_pd_3.replace({'pais':'Colombia'}, 'Colômbia', regex=True, inplace=True)  \n",
        "df_pd_3.replace({'pais':'Comoros'}, 'Comores', regex=True, inplace=True)  \n",
        "df_pd_3.replace({'pais':'Congo'}, 'Congo', regex=True, inplace=True)  \n",
        "df_pd_3.replace({'pais':'Cook Islands'}, 'Ilhas Cook', regex=True, inplace=True)  \n",
        "df_pd_3.replace({'pais':'Costa Rica'}, 'Costa Rica', regex=True, inplace=True)  \n",
        "df_pd_3.replace({'pais':'Côte d’Ivoire'}, 'Costa do Marfim', regex=True, inplace=True)  \n",
        "df_pd_3.replace({'pais':'Croatia'}, 'Croácia', regex=True, inplace=True)\n",
        "df_pd_3.replace({'pais':'Cuba'}, 'Cuba', regex=True, inplace=True)  \n",
        "df_pd_3.replace({'pais':'Curaçao'}, 'Curaçao', regex=True, inplace=True)  \n",
        "df_pd_3.replace({'pais':'Cyprus'}, 'Chipre', regex=True, inplace=True)  \n",
        "df_pd_3.replace({'pais':'Czechia'}, 'Tchéquia', regex=True, inplace=True)  \n",
        "df_pd_3.replace({'pais':\"Democratic People's Republic of Korea\"}, 'República Popular Democrática da Coreia', regex=True, inplace=True)  \n",
        "df_pd_3.replace({'pais':'Democratic Republic of the Congo'}, 'República Democrática do Congo', regex=True, inplace=True)  \n",
        "df_pd_3.replace({'pais':'Denmark'}, 'Dinamarca', regex=True, inplace=True)  \n",
        "df_pd_3.replace({'pais':'Djibouti'}, 'Djibuti', regex=True, inplace=True)  \n",
        "df_pd_3.replace({'pais':'Dominica'}, 'Domínica', regex=True, inplace=True)  \n",
        "df_pd_3.replace({'pais':'Dominican Republic'}, 'República Dominicana', regex=True, inplace=True)  \n",
        "df_pd_3.replace({'pais':'Ecuador'}, 'Equador', regex=True, inplace=True)  \n",
        "df_pd_3.replace({'pais':'Egypt'}, 'Egito', regex=True, inplace=True)  \n",
        "df_pd_3.replace({'pais':'El Salvador'}, 'El Salvador', regex=True, inplace=True)  \n",
        "df_pd_3.replace({'pais':'Equatorial Guinea'}, 'Guiné Equatorial', regex=True, inplace=True)  \n",
        "df_pd_3.replace({'pais':'Eritrea'}, 'Eritreia', regex=True, inplace=True)  \n",
        "df_pd_3.replace({'pais':'Estonia'}, 'Estônia', regex=True, inplace=True)  \n",
        "df_pd_3.replace({'pais':'Eswatini'}, 'Essuatíni', regex=True, inplace=True)  \n",
        "df_pd_3.replace({'pais':'Ethiopia'}, 'Etiópia', regex=True, inplace=True)  \n",
        "df_pd_3.replace({'pais':'Falkland Islands (Malvinas)'}, 'Malvinas', regex=True, inplace=True)  \n",
        "df_pd_3.replace({'pais':'Faroe Islands'}, 'Ilhas Faroé', regex=True, inplace=True)  \n",
        "df_pd_3.replace({'pais':'Fiji'}, 'Fiji', regex=True, inplace=True)  \n",
        "df_pd_3.replace({'pais':'Finland'}, 'Finlândia', regex=True, inplace=True)  \n",
        "df_pd_3.replace({'pais':'France'}, 'França', regex=True, inplace=True)  \n",
        "df_pd_3.replace({'pais':'French Guiana'}, 'Guiana Francesa', regex=True, inplace=True)  \n",
        "df_pd_3.replace({'pais':'French Polynesia'}, 'Polinésia Francesa', regex=True, inplace=True)\n",
        "df_pd_3.replace({'pais':'Gabon'}, 'Gabão', regex=True, inplace=True)  \n",
        "df_pd_3.replace({'pais':'Gambia'}, 'Gâmbia', regex=True, inplace=True)  \n",
        "df_pd_3.replace({'pais':'Georgia'}, 'Geórgia', regex=True, inplace=True)  \n",
        "df_pd_3.replace({'pais':'Germany'}, 'Alemanha', regex=True, inplace=True)  \n",
        "df_pd_3.replace({'pais':'Ghana'}, 'Gana', regex=True, inplace=True)  \n",
        "df_pd_3.replace({'pais':'Gibraltar'}, 'Gibraltar', regex=True, inplace=True)  \n",
        "df_pd_3.replace({'pais':'Greece'}, 'Grécia', regex=True, inplace=True)  \n",
        "df_pd_3.replace({'pais':'Greenland'}, 'Groenlândia', regex=True, inplace=True)  \n",
        "df_pd_3.replace({'pais':'Grenada'}, 'Granada', regex=True, inplace=True)  \n",
        "df_pd_3.replace({'pais':'Guadeloupe'}, 'Guadalupe', regex=True, inplace=True)  \n",
        "df_pd_3.replace({'pais':'Guam'}, 'Guam', regex=True, inplace=True)  \n",
        "df_pd_3.replace({'pais':'Guatemala'}, 'Guatemala', regex=True, inplace=True)  \n",
        "df_pd_3.replace({'pais':'Guernsey'}, 'Guernesey', regex=True, inplace=True)  \n",
        "df_pd_3.replace({'pais':'Guinea'}, 'Guiné', regex=True, inplace=True)  \n",
        "df_pd_3.replace({'pais':'Guinea-Bissau'}, 'Guiné-Bissau', regex=True, inplace=True)  \n",
        "df_pd_3.replace({'pais':'Guyana'}, 'Guiana', regex=True, inplace=True)  \n",
        "df_pd_3.replace({'pais':'Haiti'}, 'Haiti', regex=True, inplace=True)  \n",
        "df_pd_3.replace({'pais':'Holy See'}, 'Vaticano', regex=True, inplace=True)  \n",
        "df_pd_3.replace({'pais':'Honduras'}, 'Honduras', regex=True, inplace=True)  \n",
        "df_pd_3.replace({'pais':'Hungary'}, 'Hungria', regex=True, inplace=True)  \n",
        "df_pd_3.replace({'pais':'Iceland'}, 'Islândia', regex=True, inplace=True)  \n",
        "df_pd_3.replace({'pais':'India'}, 'Índia', regex=True, inplace=True)  \n",
        "df_pd_3.replace({'pais':'Indonesia'}, 'Indonésia',regex=True, inplace=True)   \n",
        "df_pd_3.replace({'pais':'Iran (Islamic Republic of)'}, 'Irã', regex=True, inplace=True)  \n",
        "df_pd_3.replace({'pais':'Iraq'}, 'Iraque', regex=True, inplace=True)\n",
        "df_pd_3.replace({'pais':'Ireland'}, 'Irlanda', regex=True, inplace=True)  \n",
        "df_pd_3.replace({'pais':'Isle of Man'}, 'Ilha de Man', regex=True, inplace=True)  \n",
        "df_pd_3.replace({'pais':'Israel'}, 'Israel', regex=True, inplace=True)  \n",
        "df_pd_3.replace({'pais':'Italy'}, 'Itália', regex=True, inplace=True)  \n",
        "df_pd_3.replace({'pais':'Jamaica'}, 'Jamaica', regex=True, inplace=True)  \n",
        "df_pd_3.replace({'pais':'Japan'}, 'Japão', regex=True, inplace=True)  \n",
        "df_pd_3.replace({'pais':'Jersey'}, 'Jersey', regex=True, inplace=True)  \n",
        "df_pd_3.replace({'pais':'Jordan'}, 'Jordânia', regex=True, inplace=True)  \n",
        "df_pd_3.replace({'pais':'Kazakhstan'}, 'Cazaquistão', regex=True, inplace=True)  \n",
        "df_pd_3.replace({'pais':'Kenya'}, 'Quênia', regex=True, inplace=True)  \n",
        "df_pd_3.replace({'pais':'Kiribati'}, 'Kiribati', regex=True, inplace=True)  \n",
        "df_pd_3.replace({'pais':'Kosovo[1]'}, 'Kosovo', regex=True, inplace=True)  \n",
        "df_pd_3.replace({'pais':'Kuwait'}, 'Kuwait', regex=True, inplace=True)  \n",
        "df_pd_3.replace({'pais':'Kyrgyzstan'}, 'Quirguistão', regex=True, inplace=True)  \n",
        "df_pd_3.replace({'pais':\"Lao People's Democratic Republic\"}, 'República Democrática Popular do Laos', regex=True, inplace=True)  \n",
        "df_pd_3.replace({'pais':'Latvia'}, 'Letônia', regex=True, inplace=True)  \n",
        "df_pd_3.replace({'pais':'Lebanon'}, 'Líbano', regex=True, inplace=True)  \n",
        "df_pd_3.replace({'pais':'Lesotho'}, 'Lesoto', regex=True, inplace=True)  \n",
        "df_pd_3.replace({'pais':'Liberia'}, 'Libéria', regex=True, inplace=True)  \n",
        "df_pd_3.replace({'pais':'Libya'}, 'Líbia', regex=True, inplace=True)  \n",
        "df_pd_3.replace({'pais':'Liechtenstein'}, 'Liechtenstein', regex=True, inplace=True)  \n",
        "df_pd_3.replace({'pais':'Lithuania'}, 'Lituânia', regex=True, inplace=True)  \n",
        "df_pd_3.replace({'pais':'Luxembourg'}, 'Luxemburgo', regex=True, inplace=True)  \n",
        "df_pd_3.replace({'pais':'Madagascar'}, 'Madagascar', regex=True, inplace=True)  \n",
        "df_pd_3.replace({'pais':'Malawi'}, 'Malawi', regex=True, inplace=True)\n",
        "df_pd_3.replace({'pais':'Malaysia'}, 'Malásia', regex=True, inplace=True)  \n",
        "df_pd_3.replace({'pais':'Maldives'}, 'Maldivas', regex=True, inplace=True)  \n",
        "df_pd_3.replace({'pais':'Mali'}, 'Mali', regex=True, inplace=True)  \n",
        "df_pd_3.replace({'pais':'Malta'}, 'Malta', regex=True, inplace=True)  \n",
        "df_pd_3.replace({'pais':'Marshall Islands'}, 'Ilhas Marshall',regex=True, inplace=True)   \n",
        "df_pd_3.replace({'pais':'Martinique'}, 'Martinica', regex=True, inplace=True)  \n",
        "df_pd_3.replace({'pais':'Mauritania'}, 'Mauritânia', regex=True, inplace=True)  \n",
        "df_pd_3.replace({'pais':'Mauritius'}, 'Maurício', regex=True, inplace=True)  \n",
        "df_pd_3.replace({'pais':'Mayotte'}, 'Maiote', regex=True, inplace=True)  \n",
        "df_pd_3.replace({'pais':'Mexico'}, 'México', regex=True, inplace=True)  \n",
        "df_pd_3.replace({'pais':'Micronesia (Federated States of)'}, 'Estados Federados da Micronésia', regex=True, inplace=True)  \n",
        "df_pd_3.replace({'pais':'Monaco'}, 'Mônaco', regex=True, inplace=True)  \n",
        "df_pd_3.replace({'pais':'Mongolia'}, 'Mongólia', regex=True, inplace=True)  \n",
        "df_pd_3.replace({'pais':'Montenegro'}, 'Montenegro', regex=True, inplace=True)  \n",
        "df_pd_3.replace({'pais':'Montserrat'}, 'Montserrat', regex=True, inplace=True)  \n",
        "df_pd_3.replace({'pais':'Morocco'}, 'Marrocos', regex=True, inplace=True)  \n",
        "df_pd_3.replace({'pais':'Mozambique'}, 'Moçambique', regex=True, inplace=True)  \n",
        "df_pd_3.replace({'pais':'Myanmar'}, 'Mianmar', regex=True, inplace=True)  \n",
        "df_pd_3.replace({'pais':'Namibia'}, 'Namíbia', regex=True, inplace=True)  \n",
        "df_pd_3.replace({'pais':'Nauru'}, 'Nauru', regex=True, inplace=True)  \n",
        "df_pd_3.replace({'pais':'Nepal'}, 'Nepal', regex=True, inplace=True)  \n",
        "df_pd_3.replace({'pais':'Netherlands'}, 'Países Baixos', regex=True, inplace=True)  \n",
        "df_pd_3.replace({'pais':'New Caledonia'}, 'Nova Caledônia', regex=True, inplace=True)  \n",
        "df_pd_3.replace({'pais':'New Zealand'}, 'Nova Zelândia', regex=True, inplace=True)  \n",
        "df_pd_3.replace({'pais':'Nicaragua'}, 'Nicarágua', regex=True, inplace=True)\n",
        "df_pd_3.replace({'pais':'Niger'}, 'Níger', regex=True, inplace=True)  \n",
        "df_pd_3.replace({'pais':'Nigeria'}, 'Nigéria', regex=True, inplace=True)  \n",
        "df_pd_3.replace({'pais':'Niue'}, 'Niue', regex=True, inplace=True)  \n",
        "df_pd_3.replace({'pais':'North Macedonia'}, 'Macedônia do Norte', regex=True, inplace=True)  \n",
        "df_pd_3.replace({'pais':'Northern Mariana Islands (Commonwealth of the)'}, 'Comunidades das Ilhas Marianas do Norte', regex=True, inplace=True)  \n",
        "df_pd_3.replace({'pais':'Norway'}, 'Noruega', regex=True, inplace=True)  \n",
        "df_pd_3.replace({'pais':'occupied Palestinian territory, including east Jerusalem'}, 'Território Palestino ocupado, incluindo Jerusalém Oriental',regex=True, inplace=True)   \n",
        "df_pd_3.replace({'pais':'Oman'}, 'Omã', regex=True, inplace=True)  \n",
        "df_pd_3.replace({'pais':'Other'}, 'Other',regex=True, inplace=True)   \n",
        "df_pd_3.replace({'pais':'Pakistan'}, 'Paquistão', regex=True, inplace=True)  \n",
        "df_pd_3.replace({'pais':'Palau'}, 'Palau', regex=True, inplace=True)  \n",
        "df_pd_3.replace({'pais':'Panama'}, 'Panamá', regex=True, inplace=True)  \n",
        "df_pd_3.replace({'pais':'Papua New Guinea'}, 'Papua Nova Guiné', regex=True, inplace=True)  \n",
        "df_pd_3.replace({'pais':'Paraguay'}, 'Paraguai', regex=True, inplace=True)  \n",
        "df_pd_3.replace({'pais':'Peru'}, 'Peru', regex=True, inplace=True)  \n",
        "df_pd_3.replace({'pais':'Philippines'}, 'Filipinas', regex=True, inplace=True)  \n",
        "df_pd_3.replace({'pais':'Pitcairn Islands'}, 'Ilhas Pitcairn', regex=True, inplace=True)  \n",
        "df_pd_3.replace({'pais':'Poland'}, 'Polônia', regex=True, inplace=True)  \n",
        "df_pd_3.replace({'pais':'Portugal'}, 'Portugal', regex=True, inplace=True)  \n",
        "df_pd_3.replace({'pais':'Puerto Rico'}, 'Porto Rico', regex=True, inplace=True)  \n",
        "df_pd_3.replace({'pais':'Qatar'}, 'Catar', regex=True, inplace=True)  \n",
        "df_pd_3.replace({'pais':'Republic of Korea'}, 'República da Coreia', regex=True, inplace=True)  \n",
        "df_pd_3.replace({'pais':'Republic of Moldova'}, 'República da Moldávia', regex=True, inplace=True)  \n",
        "df_pd_3.replace({'pais':'Réunion'}, 'Réunion', regex=True, inplace=True)  \n",
        "df_pd_3.replace({'pais':'Romania'}, 'Romênia', regex=True, inplace=True)\n",
        "df_pd_3.replace({'pais':'Russian Federation'}, 'Federação Russa', regex=True, inplace=True)  \n",
        "df_pd_3.replace({'pais':'Rwanda'}, 'Ruanda', regex=True, inplace=True)  \n",
        "df_pd_3.replace({'pais':'Saba'}, 'Saba', regex=True, inplace=True)  \n",
        "df_pd_3.replace({'pais':'Saint Barthélemy'}, 'São Bartolomeu', regex=True, inplace=True)  \n",
        "df_pd_3.replace({'pais':'Saint Helena, Ascension and Tristan da Cunha'}, 'Santa Helena, Ascensão e Tristão da Cunha', regex=True, inplace=True)  \n",
        "df_pd_3.replace({'pais':'Saint Kitts and Nevis'}, 'São Cristóvão e Nevis', regex=True, inplace=True)  \n",
        "df_pd_3.replace({'pais':'Saint Lucia'}, 'Santa Lúcia', regex=True, inplace=True)  \n",
        "df_pd_3.replace({'pais':'Saint Martin'}, 'São Martinho', regex=True, inplace=True)  \n",
        "df_pd_3.replace({'pais':'Saint Pierre and Miquelon'}, 'São Pedro e Miquelon', regex=True, inplace=True)  \n",
        "df_pd_3.replace({'pais':'Saint Vincent and the Grenadines'}, 'São Vicente e Granadinas', regex=True, inplace=True)  \n",
        "df_pd_3.replace({'pais':'Samoa'}, 'Samoa', regex=True, inplace=True)  \n",
        "df_pd_3.replace({'pais':'San Marino'}, 'San Marino', regex=True, inplace=True)  \n",
        "df_pd_3.replace({'pais':'Sao Tome and Principe'}, 'São Tomé e Príncipe', regex=True, inplace=True)  \n",
        "df_pd_3.replace({'pais':'Saudi Arabia'}, 'Arábia Saudita', regex=True, inplace=True)  \n",
        "df_pd_3.replace({'pais':'Senegal'}, 'Senegal', regex=True, inplace=True)  \n",
        "df_pd_3.replace({'pais':'Serbia'}, 'Sérvia', regex=True, inplace=True)  \n",
        "df_pd_3.replace({'pais':'Seychelles'}, 'Seicheles',regex=True, inplace=True)   \n",
        "df_pd_3.replace({'pais':'Sierra Leone'}, 'Serra Leoa', regex=True, inplace=True)        \n",
        "df_pd_3.replace({'pais':'Singapore'}, 'Cingapura', regex=True, inplace=True)  \n",
        "df_pd_3.replace({'pais':'Sint Eustatius'}, 'Santo Eustáquio', regex=True, inplace=True)  \n",
        "df_pd_3.replace({'pais':'Sint Maarten'}, 'Sint Maarten', regex=True, inplace=True)  \n",
        "df_pd_3.replace({'pais':'Slovakia'}, 'Eslováquia', regex=True, inplace=True)  \n",
        "df_pd_3.replace({'pais':'Slovenia'}, 'Eslovênia', regex=True, inplace=True)  \n",
        "df_pd_3.replace({'pais':'Solomon Islands'}, 'Ilhas Salomão', regex=True, inplace=True)  \n",
        "df_pd_3.replace({'pais':'Somalia'}, 'Somália', regex=True, inplace=True)\n",
        "df_pd_3.replace({'pais':'South Africa'}, 'África do Sul', regex=True, inplace=True)  \n",
        "df_pd_3.replace({'pais':'South Sudan'}, 'Sudão do Sul', regex=True, inplace=True)  \n",
        "df_pd_3.replace({'pais':'Spain'}, 'Espanha', regex=True, inplace=True)  \n",
        "df_pd_3.replace({'pais':'Sri Lanka'}, 'Sri Lanka', regex=True, inplace=True)  \n",
        "df_pd_3.replace({'pais':'Sudan'}, 'Sudão', regex=True, inplace=True)  \n",
        "df_pd_3.replace({'pais':'Suriname'}, 'Suriname', regex=True, inplace=True)  \n",
        "df_pd_3.replace({'pais':'Sweden'}, 'Suécia',regex=True, inplace=True)   \n",
        "df_pd_3.replace({'pais':'Switzerland'}, 'Suiça', regex=True, inplace=True)  \n",
        "df_pd_3.replace({'pais':'Syrian Arab Republic'}, 'República Árabe da Síria',  regex=True, inplace=True)        \n",
        "df_pd_3.replace({'pais':'Tajikistan'}, 'Tajiquistão', regex=True, inplace=True)  \n",
        "df_pd_3.replace({'pais':'Thailand'}, 'Tailândia', regex=True, inplace=True)  \n",
        "df_pd_3.replace({'pais':'The United Kingdom'}, 'Reino Unido', regex=True, inplace=True)  \n",
        "df_pd_3.replace({'pais':'Timor-Leste'}, 'Timor-Leste', regex=True, inplace=True)  \n",
        "df_pd_3.replace({'pais':'Togo'}, 'Togo', regex=True, inplace=True)  \n",
        "df_pd_3.replace({'pais':'Tokelau'}, 'Tokelau', regex=True, inplace=True)  \n",
        "df_pd_3.replace({'pais':'Tonga'}, 'Tonga', regex=True, inplace=True)  \n",
        "df_pd_3.replace({'pais':'Trinidad and Tobago'}, 'Trindade e Tobago',regex=True, inplace=True)   \n",
        "df_pd_3.replace({'pais':'Tunisia'}, 'Tunísia', regex=True, inplace=True)  \n",
        "df_pd_3.replace({'pais':'Türkiye'}, 'Turquia',regex=True, inplace=True)   \n",
        "df_pd_3.replace({'pais':'Turkmenistan'}, 'Turquemenistão', regex=True, inplace=True)  \n",
        "df_pd_3.replace({'pais':'Turks and Caicos Islands'}, 'Ilhas Turcas e Caicos',  regex=True, inplace=True)        \n",
        "df_pd_3.replace({'pais':'Tuvalu'}, 'Tuvalu', regex=True, inplace=True)  \n",
        "df_pd_3.replace({'pais':'Uganda'}, 'Uganda',regex=True, inplace=True)  \n",
        "df_pd_3.replace({'pais':'Ukraine'}, 'Ucrânia', regex=True, inplace=True)  \n",
        "df_pd_3.replace({'pais':'United Arab Emirates'}, 'Emirados Árabes Unidos',regex=True, inplace=True)\n",
        "df_pd_3.replace({'pais':'United Republic of Tanzania'}, 'República Unida da Tanzânia', regex=True, inplace=True)  \n",
        "df_pd_3.replace({'pais':'United States of America'}, 'Estados Unidos da America', regex=True, inplace=True)  \n",
        "df_pd_3.replace({'pais':'United States Virgin Islands'}, 'Ilhas Virgens dos Estados Unidos', regex=True, inplace=True)  \n",
        "df_pd_3.replace({'pais':'Uruguay'}, 'Uruguai', regex=True, inplace=True)  \n",
        "df_pd_3.replace({'pais':'Uzbekistan'}, 'Uzbequistão',regex=True, inplace=True)   \n",
        "df_pd_3.replace({'pais':'Vanuatu'}, 'Vanuatu',  regex=True, inplace=True)        \n",
        "df_pd_3.replace({'pais':'Venezuela (Bolivarian Republic of)'}, 'República Bolivariana da Venezuela', regex=True, inplace=True)  \n",
        "df_pd_3.replace({'pais':'Viet Nam'}, 'Vietnã', regex=True, inplace=True)  \n",
        "df_pd_3.replace({'pais':'Wallis and Futuna'}, 'Wallis e Futuna',regex=True, inplace=True)  \n",
        "df_pd_3.replace({'pais':'Yemen'}, 'Iémen', regex=True, inplace=True)  \n",
        "df_pd_3.replace({'pais':'Zambia'}, 'Zâmbia',regex=True, inplace=True)  \n",
        "df_pd_3.replace({'pais':'Zimbabwe'}, 'Zimbábue', regex=True, inplace=True)"
      ],
      "metadata": {
        "id": "S1QMkFriG63j"
      },
      "execution_count": null,
      "outputs": []
    },
    {
      "cell_type": "code",
      "source": [
        "df_pd_3.head(2)"
      ],
      "metadata": {
        "id": "cXGJICSmHAxa"
      },
      "execution_count": null,
      "outputs": []
    },
    {
      "cell_type": "code",
      "source": [
        "# Optamos por dropar a coluna 'oms_regiao2' que descreve o código de cada país \n",
        "# pois já existe uma coluna no Dataframe que descreve o país correspondente ao código\n",
        "\n",
        "df_pd_3.drop('oms_regiao2',axis=1,inplace=True)"
      ],
      "metadata": {
        "id": "Njd2gJsQHg3C"
      },
      "execution_count": null,
      "outputs": []
    },
    {
      "cell_type": "code",
      "source": [
        "df_pd_3.head(3)"
      ],
      "metadata": {
        "id": "pfaGUteGHP3b"
      },
      "execution_count": null,
      "outputs": []
    },
    {
      "cell_type": "code",
      "source": [
        "# Renomeando a coluna região com a respectiva tradução\n",
        "\n",
        "df_pd_3.replace({'regiao':'Americas'}, 'Americas',regex=True, inplace=True)  \n",
        "df_pd_3.replace({'regiao':'South-East Asia'}, 'Sudeste da Ásia',regex=True, inplace=True)  \n",
        "df_pd_3.replace({'regiao':'Europe'}, 'Europa',regex=True, inplace=True)  \n",
        "df_pd_3.replace({'regiao':'Western Pacific'}, 'Pacífico Ocidental',regex=True, inplace=True)  \n",
        "df_pd_3.replace({'regiao':'Eastern Mediterranean'}, 'Mediterrâneo oriental',regex=True, inplace=True)\n",
        "df_pd_3.replace({'regiao':'Africa'}, 'Africa',regex=True, inplace=True)\n",
        "df_pd_3.replace({'regiao':'Other'}, 'Outro',regex=True, inplace=True)  "
      ],
      "metadata": {
        "id": "N7y2UDpatwSi"
      },
      "execution_count": null,
      "outputs": []
    },
    {
      "cell_type": "code",
      "source": [
        "# Verificação das modificações realizadas\n",
        "df_pd_3.head(3)"
      ],
      "metadata": {
        "id": "1nzVvYK0IeXq"
      },
      "execution_count": null,
      "outputs": []
    },
    {
      "cell_type": "markdown",
      "source": [
        "##TRATAMENTO DO df_pd_4"
      ],
      "metadata": {
        "id": "MLguJFAE--27"
      }
    },
    {
      "cell_type": "code",
      "source": [
        "# Visualização do data frame para uma possivel pré análise\n",
        "df_pd_4.dtypes"
      ],
      "metadata": {
        "id": "n5JSoItAxttT"
      },
      "execution_count": null,
      "outputs": []
    },
    {
      "cell_type": "code",
      "source": [
        "# Verificando os valores nulos\n",
        "df_pd_4.isna().sum()"
      ],
      "metadata": {
        "id": "jD5lEo3kt6-e"
      },
      "execution_count": null,
      "outputs": []
    },
    {
      "cell_type": "code",
      "source": [
        "# Verificando o conteudo das colunas atraves do pd.unique\n",
        "pd.unique(df_pd_4['COMMENT'])"
      ],
      "metadata": {
        "id": "5iCHSp4nuQXl"
      },
      "execution_count": null,
      "outputs": []
    },
    {
      "cell_type": "code",
      "source": [
        "# Realizando drop de colunas devido as colunas \"END_DATE\" e \"COMMENT\", terem apenas valores nulos\n",
        "df_pd_4.drop(columns=['END_DATE'], inplace = True)\n",
        "df_pd_4.drop(columns=['COMMENT'], inplace = True)"
      ],
      "metadata": {
        "id": "AqjuUJceueEt"
      },
      "execution_count": null,
      "outputs": []
    },
    {
      "cell_type": "code",
      "source": [
        "# Renomeando as colunas \n",
        "# Optamos por renomear a coluna \"iso3\" para país assim como transformar seus códigos em países correspondentes.\n",
        "df_pd_4.rename(columns={\n",
        "    'ISO3':'pais',\n",
        "    'VACCINE_NAME':'vacina',\n",
        "    'PRODUCT_NAME':'produto',\n",
        "    'COMPANY_NAME':'empresa',\n",
        "    'AUTHORIZATION_DATE':'data_de_autorizacao',\n",
        "    'START_DATE':'data_de_inicio',\n",
        "    'DATA_SOURCE':'fonte_de_dados'\n",
        "},inplace=True)"
      ],
      "metadata": {
        "id": "zE0lAtq29E7G"
      },
      "execution_count": null,
      "outputs": []
    },
    {
      "cell_type": "code",
      "source": [
        "# Verificação das alterações realizadas\n",
        "df_pd_4.head(2)"
      ],
      "metadata": {
        "id": "-6SPSeJTgIrb"
      },
      "execution_count": null,
      "outputs": []
    },
    {
      "cell_type": "code",
      "source": [
        "# Renomeando as siglas da coluna pais \n",
        "df_pd_4.replace({'pais':'SHN'}, 'Santa Helena, Ascensão e Tristão da Cunha', regex=True, inplace=True)\n",
        "df_pd_4.replace({'pais':'GRL'}, 'Groelândia', regex=True, inplace=True)\n",
        "df_pd_4.replace({'pais':'FRO'}, 'Ilhas Faroé', regex=True, inplace=True)\n",
        "df_pd_4.replace({'pais':'BIH'}, 'Bósnia e Herzegovina', regex=True, inplace=True)\n",
        "df_pd_4.replace({'pais':'JEY'}, 'Jersey', regex=True, inplace=True)\n",
        "df_pd_4.replace({'pais':'GGY'}, 'Guernsey', regex=True, inplace=True)\n",
        "df_pd_4.replace({'pais':'GIB'}, 'Gibraltar', regex=True, inplace=True)\n",
        "df_pd_4.replace({'pais':'IMN'}, 'Ilha de Man', regex=True, inplace=True)\n",
        "df_pd_4.replace({'pais':'FLK'}, 'Malvinas', regex=True, inplace=True)\n",
        "df_pd_4.replace({'pais':'RUS'}, 'Federação Russa', regex=True, inplace=True)\n",
        "df_pd_4.replace({'pais':'TUR'}, 'Turquia', regex=True, inplace=True)\n",
        "df_pd_4.replace({'pais':'UZB'}, 'Uzbequistão', regex=True, inplace=True)\n",
        "df_pd_4.replace({'pais':'CHN'}, 'China', regex=True, inplace=True)\n",
        "df_pd_4.replace({'pais':'TKM'}, 'Turquemenistão', regex=True, inplace=True)\n",
        "df_pd_4.replace({'pais':'AUT'}, 'Austria', regex=True, inplace=True)\n",
        "df_pd_4.replace({'pais':'DEU'}, 'Alemanha', regex=True, inplace=True)\n",
        "df_pd_4.replace({'pais':'VEN'}, 'República Bolivariana da Venezuela', regex=True, inplace=True)\n",
        "df_pd_4.replace({'pais':'CUB'}, 'Cuba', regex=True, inplace=True)\n",
        "df_pd_4.replace({'pais':'IRN'}, 'Irã', regex=True, inplace=True)\n",
        "df_pd_4.replace({'pais':'NIC'}, 'Nicarágua', regex=True, inplace=True)\n",
        "df_pd_4.replace({'pais':'AZE'}, 'Azerbaijão', regex=True, inplace=True)\n",
        "df_pd_4.replace({'pais':'KGZ'}, 'Quirguistão', regex=True, inplace=True)\n",
        "df_pd_4.replace({'pais':'SVK'}, 'Eslováquia', regex=True, inplace=True)\n",
        "df_pd_4.replace({'pais':'ARM'}, 'Armênia', regex=True, inplace=True)\n",
        "df_pd_4.replace({'pais':'OMN'}, 'Omã', regex=True, inplace=True)\n",
        "df_pd_4.replace({'pais':'MDV'}, 'Maldivas', regex=True, inplace=True)\n",
        "df_pd_4.replace({'pais':'ATG'}, 'Antígua e Barbuda', regex=True, inplace=True)\n",
        "df_pd_4.replace({'pais':'TJK'}, 'Tajiquistão', regex=True, inplace=True)\n",
        "df_pd_4.replace({'pais':'LAO'}, 'República Democrática Popular do Laos', regex=True, inplace=True)\n",
        "df_pd_4.replace({'pais':'MNG'}, 'Mongólia', regex=True, inplace=True)\n",
        "df_pd_4.replace({'pais':'PHL'}, 'Filipinas', regex=True, inplace=True)\n",
        "df_pd_4.replace({'pais':'HUN'}, 'Hungria', regex=True, inplace=True)\n",
        "df_pd_4.replace({'pais':'BLR'}, 'Bielorrússia', regex=True, inplace=True)\n",
        "df_pd_4.replace({'pais':'PRY'}, 'Paraguai', regex=True, inplace=True)\n",
        "df_pd_4.replace({'pais':'ARG'}, 'Argentina', regex=True, inplace=True)\n",
        "df_pd_4.replace({'pais':'BOL'}, 'Bolívia', regex=True, inplace=True)\n",
        "df_pd_4.replace({'pais':'PSE'}, 'Palestina', regex=True, inplace=True)\n",
        "df_pd_4.replace({'pais':'TUN'}, 'Tunísia', regex=True, inplace=True)\n",
        "df_pd_4.replace({'pais':'PAK'}, 'Paquistão', regex=True, inplace=True)\n",
        "df_pd_4.replace({'pais':'SMR'}, 'San Marino', regex=True, inplace=True)\n",
        "df_pd_4.replace({'pais':'MNE'}, 'Montenegro', regex=True, inplace=True)\n",
        "df_pd_4.replace({'pais':'GAB'}, 'Gabão', regex=True, inplace=True)\n",
        "df_pd_4.replace({'pais':'RWA'}, 'Ruanda', regex=True, inplace=True)\n",
        "df_pd_4.replace({'pais':'SYC'}, 'Seicheles', regex=True, inplace=True)\n",
        "df_pd_4.replace({'pais':'ZWE'}, 'Zimbábue', regex=True, inplace=True)\n",
        "df_pd_4.replace({'pais':'IRQ'}, 'Iraque', regex=True, inplace=True)\n",
        "df_pd_4.replace({'pais':'MEX'}, 'México', regex=True, inplace=True)\n",
        "df_pd_4.replace({'pais':'JOR'}, 'Jordânia', regex=True, inplace=True)\n",
        "df_pd_4.replace({'pais':'DJI'}, 'Djibouti', regex=True, inplace=True)\n",
        "df_pd_4.replace({'pais':'LBN'}, 'Líbano', regex=True, inplace=True)\n",
        "df_pd_4.replace({'pais':'KAZ'}, 'Cazaquistão', regex=True, inplace=True)\n",
        "df_pd_4.replace({'pais':'MKD'}, 'Macedônia', regex=True, inplace=True)\n",
        "df_pd_4.replace({'pais':'VCT'}, 'São Vicente e Granadinas', regex=True, inplace=True)\n",
        "df_pd_4.replace({'pais':'DZA'}, 'Argélia', regex=True, inplace=True)\n",
        "df_pd_4.replace({'pais':'AFG'}, 'Afeganistão', regex=True, inplace=True)\n",
        "df_pd_4.replace({'pais':'SDN'}, 'Sudão', regex=True, inplace=True)\n",
        "df_pd_4.replace({'pais':'YEM'}, 'Iêmen', regex=True, inplace=True)\n",
        "df_pd_4.replace({'pais':'ARE'}, 'Emirados Árabes Unidos', regex=True, inplace=True)\n",
        "df_pd_4.replace({'pais':'EGY'}, 'Egito', regex=True, inplace=True)\n",
        "df_pd_4.replace({'pais':'BHR'}, 'Bahrein', regex=True, inplace=True)\n",
        "df_pd_4.replace({'pais':'MAR'}, 'Camarões', regex=True, inplace=True)\n",
        "df_pd_4.replace({'pais':'LKA'}, 'Sri Lanka', regex=True, inplace=True)\n",
        "df_pd_4.replace({'pais':'GUY'}, 'Guiana', regex=True, inplace=True)\n",
        "df_pd_4.replace({'pais':'KWT'}, 'Kuwait', regex=True, inplace=True)\n",
        "df_pd_4.replace({'pais':'QAT'}, 'Catar', regex=True, inplace=True)\n",
        "df_pd_4.replace({'pais':'SAU'}, 'Arábia Saudita', regex=True, inplace=True)\n",
        "df_pd_4.replace({'pais':'SOM'}, 'Somália', regex=True, inplace=True)\n",
        "df_pd_4.replace({'pais':'SRB'}, 'Sérvia', regex=True, inplace=True)\n",
        "df_pd_4.replace({'pais':'COG'}, 'República do Congo', regex=True, inplace=True)\n",
        "df_pd_4.replace({'pais':'GIN'}, 'Guiné', regex=True, inplace=True)\n",
        "df_pd_4.replace({'pais':'VNM'}, 'Vietnã', regex=True, inplace=True)\n",
        "df_pd_4.replace({'pais':'MYS'}, 'Malásia', regex=True, inplace=True)\n",
        "df_pd_4.replace({'pais':'GHA'}, 'Gana', regex=True, inplace=True)\n",
        "df_pd_4.replace({'pais':'CIV'}, 'Costa do Marfim', regex=True, inplace=True)\n",
        "df_pd_4.replace({'pais':'SYR'}, 'Síria', regex=True, inplace=True)\n",
        "df_pd_4.replace({'pais':'HND'}, 'Honduras', regex=True, inplace=True)\n",
        "df_pd_4.replace({'pais':'IND'}, 'Índia', regex=True, inplace=True)\n",
        "df_pd_4.replace({'pais':'NPL'}, 'Nepal', regex=True, inplace=True)\n",
        "df_pd_4.replace({'pais':'LBY'}, 'Líbia', regex=True, inplace=True)\n",
        "df_pd_4.replace({'pais':'BGD'}, 'Bangladesh', regex=True, inplace=True)\n",
        "df_pd_4.replace({'pais':'MDA'}, 'Moldávia', regex=True, inplace=True)\n",
        "df_pd_4.replace({'pais':'ALB'}, 'Albânia', regex=True, inplace=True)\n",
        "df_pd_4.replace({'pais':'GTM'}, 'Guatemala', regex=True, inplace=True)\n",
        "df_pd_4.replace({'pais':'TCD'}, 'Chade', regex=True, inplace=True)\n",
        "df_pd_4.replace({'pais':'VUT'}, 'Vanuatu', regex=True, inplace=True)\n",
        "df_pd_4.replace({'pais':'MMR'}, 'Mianmar', regex=True, inplace=True)\n",
        "df_pd_4.replace({'pais':'KIR'}, 'Quiribati', regex=True, inplace=True)\n",
        "df_pd_4.replace({'pais':'BDI'}, 'Burundi', regex=True, inplace=True)\n",
        "df_pd_4.replace({'pais':'BTN'}, 'Butão', regex=True, inplace=True)\n",
        "df_pd_4.replace({'pais':'LSO'}, 'Lesoto', regex=True, inplace=True)\n",
        "df_pd_4.replace({'pais':'MDG'}, 'Madagascar', regex=True, inplace=True)\n",
        "df_pd_4.replace({'pais':'TZA'}, 'Tanzânia', regex=True, inplace=True)\n",
        "df_pd_4.replace({'pais':'ZMB'}, 'Zâmbia', regex=True, inplace=True)\n",
        "df_pd_4.replace({'pais':'SGP'}, 'Singapura', regex=True, inplace=True)\n",
        "df_pd_4.replace({'pais':'SLV'}, 'El Salvador', regex=True, inplace=True)\n",
        "df_pd_4.replace({'pais':'BFA'}, 'Burkina Faso', regex=True, inplace=True)\n",
        "df_pd_4.replace({'pais':'CPV'}, 'Cabo Verde', regex=True, inplace=True)\n",
        "df_pd_4.replace({'pais':'KEN'}, 'Quênia', regex=True, inplace=True)\n",
        "df_pd_4.replace({'pais':'GMB'}, 'Gâmbia', regex=True, inplace=True)\n",
        "df_pd_4.replace({'pais':'KHM'}, 'Camboja', regex=True, inplace=True)\n",
        "df_pd_4.replace({'pais':'PER'}, 'Peru', regex=True, inplace=True)\n",
        "df_pd_4.replace({'pais':'GNQ'}, 'Guiné Equatorial', regex=True, inplace=True)\n",
        "df_pd_4.replace({'pais':'JAM'}, 'Jamaica', regex=True, inplace=True)\n",
        "df_pd_4.replace({'pais':'PRT'}, 'Portugal', regex=True, inplace=True)\n",
        "df_pd_4.replace({'pais':'DMA'}, 'Dominica', regex=True, inplace=True)\n",
        "df_pd_4.replace({'pais':'MOZ'}, 'Moçambique', regex=True, inplace=True)\n",
        "df_pd_4.replace({'pais':'SLB'}, 'Ilhas Salomão', regex=True, inplace=True)\n",
        "df_pd_4.replace({'pais':'MUS'}, 'Ilhas Maurício', regex=True, inplace=True)\n",
        "df_pd_4.replace({'pais':'PNG'}, 'Papua-Nova Guiné', regex=True, inplace=True)\n",
        "df_pd_4.replace({'pais':'BRN'}, 'Brunei', regex=True, inplace=True)\n",
        "df_pd_4.replace({'pais':'MRT'}, 'Mauritânia', regex=True, inplace=True)\n",
        "df_pd_4.replace({'pais':'NAM'}, 'Namíbia', regex=True, inplace=True)\n",
        "df_pd_4.replace({'pais':'COM'}, 'Comores', regex=True, inplace=True)\n",
        "df_pd_4.replace({'pais':'NER'}, 'Níger', regex=True, inplace=True)\n",
        "df_pd_4.replace({'pais':'ETH'}, 'Etiópia', regex=True, inplace=True)\n",
        "df_pd_4.replace({'pais':'IDN'}, 'Indonésia', regex=True, inplace=True)\n",
        "df_pd_4.replace({'pais':'GNB'}, 'Guiné-Bissau', regex=True, inplace=True)\n",
        "df_pd_4.replace({'pais':'SLE'}, 'Serra Leoa', regex=True, inplace=True)\n",
        "df_pd_4.replace({'pais':'SEN'}, 'Senegal', regex=True, inplace=True)\n",
        "df_pd_4.replace({'pais':'CMR'}, 'Camarões', regex=True, inplace=True)\n",
        "df_pd_4.replace({'pais':'GEO'}, 'Geórgia', regex=True, inplace=True)\n",
        "df_pd_4.replace({'pais':'THA'}, 'Tailândia', regex=True, inplace=True)\n",
        "df_pd_4.replace({'pais':'BRB'}, 'Barbados', regex=True, inplace=True)\n",
        "df_pd_4.replace({'pais':'SUR'}, 'Suriname', regex=True, inplace=True)\n",
        "df_pd_4.replace({'pais':'TTO'}, 'Trindade e Tobago', regex=True, inplace=True)\n",
        "df_pd_4.replace({'pais':'BLZ'}, 'Belize', regex=True, inplace=True)\n",
        "df_pd_4.replace({'pais':'PCN'}, 'Ilhas Pitcairn', regex=True, inplace=True)\n",
        "df_pd_4.replace({'pais':'UKR'}, 'Ucrânia', regex=True, inplace=True)\n",
        "df_pd_4.replace({'pais':'CYP'}, 'Chipre', regex=True, inplace=True)\n",
        "df_pd_4.replace({'pais':'BEL'}, 'Bélgica', regex=True, inplace=True)\n",
        "df_pd_4.replace({'pais':'NLD'}, 'Países Baixos', regex=True, inplace=True)\n",
        "df_pd_4.replace({'pais':'POL'}, 'Polônia', regex=True, inplace=True)\n",
        "df_pd_4.replace({'pais':'CZE'}, 'Tchéquia', regex=True, inplace=True)\n",
        "df_pd_4.replace({'pais':'SWE'}, 'Suécia', regex=True, inplace=True)\n",
        "df_pd_4.replace({'pais':'ROU'}, 'Romênia', regex=True, inplace=True)\n",
        "df_pd_4.replace({'pais':'LTU'}, 'Lituânia', regex=True, inplace=True)\n",
        "df_pd_4.replace({'pais':'ESP'}, 'Espanha', regex=True, inplace=True)\n",
        "df_pd_4.replace({'pais':'LVA'}, 'Letônia', regex=True, inplace=True)\n",
        "df_pd_4.replace({'pais':'ITA'}, 'Itália', regex=True, inplace=True)\n",
        "df_pd_4.replace({'pais':'SVN'}, 'Eslovênia', regex=True, inplace=True)\n",
        "df_pd_4.replace({'pais':'FRA'}, 'França', regex=True, inplace=True)\n",
        "df_pd_4.replace({'pais':'ISL'}, 'Islândia', regex=True, inplace=True)\n",
        "df_pd_4.replace({'pais':'BGR'}, 'Bulgária', regex=True, inplace=True)\n",
        "df_pd_4.replace({'pais':'LUX'}, 'Luxemburgo', regex=True, inplace=True)\n",
        "df_pd_4.replace({'pais':'IRL'}, 'Irlanda', regex=True, inplace=True)\n",
        "df_pd_4.replace({'pais':'EST'}, 'Estônia', regex=True, inplace=True)\n",
        "df_pd_4.replace({'pais':'HRV'}, 'Croácia', regex=True, inplace=True)\n",
        "df_pd_4.replace({'pais':'FIN'}, 'Finlândia', regex=True, inplace=True)\n",
        "df_pd_4.replace({'pais':'DNK'}, 'Dinamarca', regex=True, inplace=True)\n",
        "df_pd_4.replace({'pais':'GRC'}, 'Grécia', regex=True, inplace=True)\n",
        "df_pd_4.replace({'pais':'VGB'}, 'Ilhas Virgens Britânicas', regex=True, inplace=True)\n",
        "df_pd_4.replace({'pais':'MSR'}, 'Montserrat', regex=True, inplace=True)\n",
        "df_pd_4.replace({'pais':'AIA'}, 'Anguilla', regex=True, inplace=True)\n",
        "df_pd_4.replace({'pais':'MLT'}, 'Malta', regex=True, inplace=True)\n",
        "df_pd_4.replace({'pais':'CAN'}, 'Canadá', regex=True, inplace=True)\n",
        "df_pd_4.replace({'pais':'BEN'}, 'Benin', regex=True, inplace=True)\n",
        "df_pd_4.replace({'pais':'ISR'}, 'Israel', regex=True, inplace=True)\n",
        "df_pd_4.replace({'pais':'FJI'}, 'Fiji', regex=True, inplace=True)\n",
        "df_pd_4.replace({'pais':'JPN'}, 'Japão', regex=True, inplace=True)\n",
        "df_pd_4.replace({'pais':'GBR'}, 'Reino Unido', regex=True, inplace=True)\n",
        "df_pd_4.replace({'pais':'MCO'}, 'Mônaco', regex=True, inplace=True)\n",
        "df_pd_4.replace({'pais':'XKX'}, 'Kosovo', regex=True, inplace=True)\n",
        "df_pd_4.replace({'pais':'STP'}, 'São Tomé e Príncipe', regex=True, inplace=True)\n",
        "df_pd_4.replace({'pais':'SXM'}, 'Sint Maarten', regex=True, inplace=True)\n",
        "df_pd_4.replace({'pais':'URY'}, 'Uruguai', regex=True, inplace=True)\n",
        "df_pd_4.replace({'pais':'ECU'}, 'Equador', regex=True, inplace=True)\n",
        "df_pd_4.replace({'pais':'BMU'}, 'Bermudas', regex=True, inplace=True)\n",
        "df_pd_4.replace({'pais':'CUW'}, 'Curaçao', regex=True, inplace=True)\n",
        "df_pd_4.replace({'pais':'BHS'}, 'Bahamas', regex=True, inplace=True)\n",
        "df_pd_4.replace({'pais':'KNA'}, 'São Cristóvão e Névis', regex=True, inplace=True)\n",
        "df_pd_4.replace({'pais':'LCA'}, 'Santa Lúcia', regex=True, inplace=True)\n",
        "df_pd_4.replace({'pais':'DOM'}, 'República Dominicana', regex=True, inplace=True)\n",
        "df_pd_4.replace({'pais':'NRU'}, 'Nauru', regex=True, inplace=True)\n",
        "df_pd_4.replace({'pais':'NOR'}, 'Noruega', regex=True, inplace=True)\n",
        "df_pd_4.replace({'pais':'COL'}, 'Colômbia', regex=True, inplace=True)\n",
        "df_pd_4.replace({'pais':'WSM'}, 'Samoa', regex=True, inplace=True)\n",
        "df_pd_4.replace({'pais':'NZL'}, 'Nova Zelândia', regex=True, inplace=True)\n",
        "df_pd_4.replace({'pais':'TON'}, 'Tonga', regex=True, inplace=True)\n",
        "df_pd_4.replace({'pais':'BRA'}, 'Brasil', regex=True, inplace=True)\n",
        "df_pd_4.replace({'pais':'AUS'}, 'Austrália', regex=True, inplace=True)\n",
        "df_pd_4.replace({'pais':'KOR'}, 'República da Coreia', regex=True, inplace=True)\n",
        "df_pd_4.replace({'pais':'FSM'}, 'Estados Federados da Micronésia', regex=True, inplace=True)\n",
        "df_pd_4.replace({'pais':'TUV'}, 'Tuvalu', regex=True, inplace=True)\n",
        "df_pd_4.replace({'pais':'CRI'}, 'Costa Rica', regex=True, inplace=True)\n",
        "df_pd_4.replace({'pais':'AND'}, 'Andorra', regex=True, inplace=True)\n",
        "df_pd_4.replace({'pais':'GLP'}, 'Guadalupe', regex=True, inplace=True)\n",
        "df_pd_4.replace({'pais':'TLS'}, 'Timor-Leste', regex=True, inplace=True)\n",
        "df_pd_4.replace({'pais':'PAN'}, 'Panamá', regex=True, inplace=True)\n",
        "df_pd_4.replace({'pais':'GRD'}, 'Granada', regex=True, inplace=True)\n",
        "df_pd_4.replace({'pais':'CHL'}, 'Chile', regex=True, inplace=True)\n",
        "df_pd_4.replace({'pais':'CHE'}, 'Suíça', regex=True, inplace=True)\n",
        "df_pd_4.replace({'pais':'MTQ'}, 'Martinica', regex=True, inplace=True)\n",
        "df_pd_4.replace({'pais':'BWA'}, 'Botsuana', regex=True, inplace=True)\n",
        "df_pd_4.replace({'pais':'PLW'}, 'Palau', regex=True, inplace=True)\n",
        "df_pd_4.replace({'pais':'CYM'}, 'Ilhas Cayman', regex=True, inplace=True)\n",
        "df_pd_4.replace({'pais':'ABW'}, 'Aruba', regex=True, inplace=True)\n",
        "df_pd_4.replace({'pais':'USA'}, 'Estados Unidos da America', regex=True, inplace=True)\n",
        "df_pd_4.replace({'pais':'TCA'}, 'Ilhas Turcas e Caicos', regex=True, inplace=True)\n",
        "df_pd_4.replace({'pais':'SWZ'}, 'Essuatíni', regex=True, inplace=True)\n",
        "df_pd_4.replace({'pais':'UGA'}, 'Uganda', regex=True, inplace=True)\n",
        "df_pd_4.replace({'pais':'ZAF'}, 'África do Sul', regex=True, inplace=True)\n",
        "df_pd_4.replace({'pais':'GUF'}, 'Guiana Francesa', regex=True, inplace=True)\n",
        "df_pd_4.replace({'pais':'MHL'}, 'Ilhas Marshall', regex=True, inplace=True)\n",
        "df_pd_4.replace({'pais':'LIE'}, 'Liechtenstein', regex=True, inplace=True)\n",
        "df_pd_4.replace({'pais':'BES'}, 'Países Baixos Caribenhos', regex=True, inplace=True)\n",
        "df_pd_4.replace({'pais':'PRI'}, 'Porto Rico', regex=True, inplace=True)\n",
        "df_pd_4.replace({'pais':'GUM'}, 'Guam', regex=True, inplace=True)\n",
        "df_pd_4.replace({'pais':'ASM'}, 'Samoa Americana', regex=True, inplace=True)\n",
        "df_pd_4.replace({'pais':'MNP'}, 'Comunidade das Ilhas Marianas do Norte', regex=True, inplace=True)\n",
        "df_pd_4.replace({'pais':'PYF'}, 'Polinésia Francesa', regex=True, inplace=True)\n",
        "df_pd_4.replace({'pais':'NCL'}, 'Nova Caledônia', regex=True, inplace=True)\n",
        "df_pd_4.replace({'pais':'NIU'}, 'Niue', regex=True, inplace=True)\n",
        "df_pd_4.replace({'pais':'TKL'}, 'Tokelau', regex=True, inplace=True)\n",
        "df_pd_4.replace({'pais':'COK'}, 'Ilhas Cook', regex=True, inplace=True)\n",
        "df_pd_4.replace({'pais':'WLF'}, 'Wallis e Futuna', regex=True, inplace=True)\n",
        "df_pd_4.replace({'pais':'HTI'}, 'Haiti', regex=True, inplace=True)\n",
        "df_pd_4.replace({'pais':'CAF'}, 'República Centro-Africana', regex=True, inplace=True)\n",
        "df_pd_4.replace({'pais':'SSD'}, 'Sudão do Sul', regex=True, inplace=True)\n",
        "df_pd_4.replace({'pais':'MWI'}, 'Malawi', regex=True, inplace=True)\n",
        "df_pd_4.replace({'pais':'NGA'}, 'Nigéria', regex=True, inplace=True)\n",
        "df_pd_4.replace({'pais':'TGO'}, 'Togo', regex=True, inplace=True)\n",
        "df_pd_4.replace({'pais':'AGO'}, 'Angola', regex=True, inplace=True)\n",
        "df_pd_4.replace({'pais':'COD'}, 'República Democrática do Congo', regex=True, inplace=True)\n",
        "df_pd_4.replace({'pais':'MLI'}, 'Mali', regex=True, inplace=True)\n",
        "df_pd_4.replace({'pais':'LBR'}, 'Libéria', regex=True, inplace=True)"
      ],
      "metadata": {
        "id": "zZVMUJIZcJRT"
      },
      "execution_count": null,
      "outputs": []
    },
    {
      "cell_type": "code",
      "source": [
        "df_pd_4.head(2)"
      ],
      "metadata": {
        "id": "NzR1RWYRm88I"
      },
      "execution_count": null,
      "outputs": []
    },
    {
      "cell_type": "code",
      "source": [
        "# Criando um backup \n",
        "dfback = df_pd_4.copy() "
      ],
      "metadata": {
        "id": "GKJP92jivbv6"
      },
      "execution_count": null,
      "outputs": []
    },
    {
      "cell_type": "code",
      "source": [
        "# Visualizando a copia do arquivo para tratamento de incosistências \n",
        "dfback"
      ],
      "metadata": {
        "id": "0LaJcs3Qv0Ny"
      },
      "execution_count": null,
      "outputs": []
    },
    {
      "cell_type": "code",
      "source": [
        "# Drop da coluna Unnamed: 0\n",
        "dfback.drop(['Unnamed: 0'],axis=1,inplace=True)"
      ],
      "metadata": {
        "id": "5e70Ww7EwWUC"
      },
      "execution_count": null,
      "outputs": []
    },
    {
      "cell_type": "code",
      "source": [
        "dfback.head(2)"
      ],
      "metadata": {
        "id": "9wMJ5gOwgWj4"
      },
      "execution_count": null,
      "outputs": []
    },
    {
      "cell_type": "markdown",
      "source": [
        "##LIMPEZA DE INCONSISTÊNCIAS ENCONTRADAS df_pd_4"
      ],
      "metadata": {
        "id": "RWLRAnPD5nro"
      }
    },
    {
      "cell_type": "code",
      "source": [
        "# Visualizando como ficou as colunas e seu tipo\n",
        "dfback.dtypes"
      ],
      "metadata": {
        "id": "Ibmp9LYp9Sfe"
      },
      "execution_count": null,
      "outputs": []
    },
    {
      "cell_type": "code",
      "source": [
        "# Transformei todos os valores nulos em não informados\n",
        "dfback[\"produto\"] = dfback[\"produto\"].fillna(\"n_informado\")\n",
        "dfback[\"empresa\"] = dfback[\"empresa\"].fillna(\"n_informado\")\n",
        "#dfback[\"data_de_autorizacao\"] = dfback[\"data_de_autorizacao\"].fillna(\"n_informado\")\n",
        "#dfback[\"data_de_inicio\"] = dfback[\"data_de_inicio\"].fillna(\"n_informado\")"
      ],
      "metadata": {
        "id": "eNqlGHBly3lc"
      },
      "execution_count": null,
      "outputs": []
    },
    {
      "cell_type": "code",
      "source": [
        "# Verificando se a alteração foi aplicada\n",
        "dfback.head(3\n",
        "            )"
      ],
      "metadata": {
        "id": "_NqDy8R5y5GW"
      },
      "execution_count": null,
      "outputs": []
    },
    {
      "cell_type": "markdown",
      "source": [
        "Utilizando o unique novamente, para ver as respectivas colunas e preencher os valores não informados da coluna produto e empresa"
      ],
      "metadata": {
        "id": "otvnXM9KzJrE"
      }
    },
    {
      "cell_type": "code",
      "source": [
        "# Verificando a coluna vacina\n",
        "pd.unique(dfback['vacina'])\n",
        "#Temos 37 resultados/ valores nulos 0"
      ],
      "metadata": {
        "id": "oPfjlxqxzAQj"
      },
      "execution_count": null,
      "outputs": []
    },
    {
      "cell_type": "code",
      "source": [
        "# Verificando a coluna produto \n",
        "pd.unique(dfback['produto'])\n",
        "#Temos 37 resultados /valores nulos 1"
      ],
      "metadata": {
        "id": "rwcCcPBRzXW1"
      },
      "execution_count": null,
      "outputs": []
    },
    {
      "cell_type": "code",
      "source": [
        "# Verificando a coluna empresa \n",
        "pd.unique(dfback['empresa'])\n",
        "#Temos 24 resultados / valores nulos 32"
      ],
      "metadata": {
        "id": "1rsNDqeYzZdb"
      },
      "execution_count": null,
      "outputs": []
    },
    {
      "cell_type": "markdown",
      "source": [
        "Realizando os filtros para fazer os devidos preenchimentos"
      ],
      "metadata": {
        "id": "xihbTdRQzcFs"
      }
    },
    {
      "cell_type": "code",
      "source": [
        "# Realizando o filtro na vacina 'Turkovac'\n",
        "filtro1 = dfback.vacina == 'Turkovac'\n",
        "filtro1_1 = dfback.loc[filtro1]\n",
        "filtro1_1"
      ],
      "metadata": {
        "id": "se6asPzKzkQe"
      },
      "execution_count": null,
      "outputs": []
    },
    {
      "cell_type": "code",
      "source": [
        "# Realizando as alterações necessárias \n",
        "filtro1_1.iat[0,2] = 'Turkovac'\n",
        "filtro1_1.iat[0,3] = 'Health Institutes of Turkey'\n",
        "filtro1_1"
      ],
      "metadata": {
        "id": "O4dX-rTr0ACt"
      },
      "execution_count": null,
      "outputs": []
    },
    {
      "cell_type": "code",
      "source": [
        "# Realizando o filtro na vacina 'Julphar - Hayat-Vax'\n",
        "filtro2 = dfback.vacina == 'Julphar - Hayat-Vax'\n",
        "filtro2_1 = dfback.loc[filtro2]\n",
        "filtro2_1"
      ],
      "metadata": {
        "id": "QLwCxswi0A_7"
      },
      "execution_count": null,
      "outputs": []
    },
    {
      "cell_type": "code",
      "source": [
        "# Realizando as alterações necessárias \n",
        "filtro2_1.iat[0,3] = 'Julphar'\n",
        "filtro2_1.iat[1,3] = 'Julphar'\n",
        "filtro2_1.iat[2,3] = 'Julphar'\n",
        "filtro2_1"
      ],
      "metadata": {
        "id": "OLVEUh1A0BIk"
      },
      "execution_count": null,
      "outputs": []
    },
    {
      "cell_type": "code",
      "source": [
        "# Realizando o filtro na vacina 'Shifa - COVIran Barakat'\n",
        "filtro3 = dfback.vacina == 'Shifa - COVIran Barakat'\n",
        "filtro3_1 = dfback.loc[filtro3]\n",
        "filtro3_1"
      ],
      "metadata": {
        "id": "vi2JPRGk0QhV"
      },
      "execution_count": null,
      "outputs": []
    },
    {
      "cell_type": "code",
      "source": [
        "# Realizando as alterações necessárias \n",
        "filtro3_1.iat[0,3] = 'Shifa'\n",
        "filtro3_1"
      ],
      "metadata": {
        "id": "3NHMV1Gp0Qq3"
      },
      "execution_count": null,
      "outputs": []
    },
    {
      "cell_type": "code",
      "source": [
        "# Realizando o filtro na vacina 'Novavax - Covavax'\n",
        "filtro4 = dfback.vacina == 'Novavax - Covavax'\n",
        "filtro4_1 = dfback.loc[filtro4]\n",
        "filtro4_1"
      ],
      "metadata": {
        "id": "59YpGJ290v7F"
      },
      "execution_count": null,
      "outputs": []
    },
    {
      "cell_type": "code",
      "source": [
        "# Realizando as alterações necessárias \n",
        "filtro4_1.iat[0,3] = 'Novavax'\n",
        "filtro4_1"
      ],
      "metadata": {
        "id": "HpdKQzmi0wQq"
      },
      "execution_count": null,
      "outputs": []
    },
    {
      "cell_type": "code",
      "source": [
        "# Realizando o filtro na vacina 'SII - Covovax'\n",
        "filtro5 = dfback.vacina == 'SII - Covovax'\n",
        "filtro5_1 = dfback.loc[filtro5]\n",
        "filtro5_1"
      ],
      "metadata": {
        "id": "60EeYNxy0x1r"
      },
      "execution_count": null,
      "outputs": []
    },
    {
      "cell_type": "code",
      "source": [
        "# Realizando as alterações necessárias \n",
        "filtro5_1.iat[0,3] = 'SII'\n",
        "filtro5_1.iat[1,3] = 'SII'\n",
        "filtro5_1"
      ],
      "metadata": {
        "id": "69XYJ13q0yAS"
      },
      "execution_count": null,
      "outputs": []
    },
    {
      "cell_type": "code",
      "source": [
        "# Realizando o filtro na vacina 'Moderna – Spikevax Bivalent Original/Omicron BA.1'\n",
        "filtro6 = dfback.vacina == 'Moderna – Spikevax Bivalent Original/Omicron BA.1'\n",
        "filtro6_1 = dfback.loc[filtro6]\n",
        "filtro6_1"
      ],
      "metadata": {
        "id": "lcKihn992u1F"
      },
      "execution_count": null,
      "outputs": []
    },
    {
      "cell_type": "code",
      "source": [
        "# Realizando as alterações necessárias \n",
        "filtro6_1.iat[0,3] = 'Moderna'\n",
        "filtro6_1.iat[1,3] = 'Moderna'\n",
        "filtro6_1.iat[2,3] = 'Moderna'\n",
        "filtro6_1.iat[3,3] = 'Moderna'\n",
        "filtro6_1.iat[4,3] = 'Moderna'\n",
        "filtro6_1.iat[5,3] = 'Moderna'\n",
        "filtro6_1"
      ],
      "metadata": {
        "id": "21XwPupK2u8O"
      },
      "execution_count": null,
      "outputs": []
    },
    {
      "cell_type": "code",
      "source": [
        "# Realizando o filtro na vacina 'Pfizer BioNTech - Comirnaty Bivalent Original/Omicron BA.1'\n",
        "filtro7 = dfback.vacina == 'Pfizer BioNTech - Comirnaty Bivalent Original/Omicron BA.1'\n",
        "filtro7_1 = dfback.loc[filtro7]\n",
        "filtro7_1"
      ],
      "metadata": {
        "id": "_Kv1GiFA2vN7"
      },
      "execution_count": null,
      "outputs": []
    },
    {
      "cell_type": "code",
      "source": [
        "# Realizando as alterações necessárias \n",
        "filtro7_1.iat[0,3] = 'Pfizer BioNTech'\n",
        "filtro7_1.iat[1,3] = 'Pfizer BioNTech'\n",
        "filtro7_1.iat[2,3] = 'Pfizer BioNTech'\n",
        "filtro7_1.iat[3,3] = 'Pfizer BioNTech'\n",
        "filtro7_1.iat[4,3] = 'Pfizer BioNTech'\n",
        "filtro7_1.iat[5,3] = 'Pfizer BioNTech'\n",
        "filtro7_1.iat[6,3] = 'Pfizer BioNTech'\n",
        "filtro7_1.iat[7,3] = 'Pfizer BioNTech'\n",
        "filtro7_1.iat[8,3] = 'Pfizer BioNTech'\n",
        "filtro7_1"
      ],
      "metadata": {
        "id": "q5NQUcR72vUy"
      },
      "execution_count": null,
      "outputs": []
    },
    {
      "cell_type": "code",
      "source": [
        "# Realizando o filtro na vacina 'Pfizer BioNTech - Comirnaty Bivalent Original/Omicron BA.4/BA.5'\n",
        "filtro8 = dfback.vacina == 'Pfizer BioNTech - Comirnaty Bivalent Original/Omicron BA.4/BA.5'\n",
        "filtro8_1 = dfback.loc[filtro8]\n",
        "filtro8_1"
      ],
      "metadata": {
        "id": "uOrV3P0d3KU8"
      },
      "execution_count": null,
      "outputs": []
    },
    {
      "cell_type": "code",
      "source": [
        "# Realizando as alterações necessárias \n",
        "filtro8_1.iat[0,3] = 'Pfizer BioNTech'\n",
        "filtro8_1.iat[1,3] = 'Pfizer BioNTech'\n",
        "filtro8_1.iat[2,3] = 'Pfizer BioNTech'\n",
        "filtro8_1.iat[3,3] = 'Pfizer BioNTech'\n",
        "filtro8_1.iat[4,3] = 'Pfizer BioNTech'\n",
        "filtro8_1.iat[5,3] = 'Pfizer BioNTech'\n",
        "filtro8_1.iat[6,3] = 'Pfizer BioNTech'\n",
        "filtro8_1"
      ],
      "metadata": {
        "id": "AjSpXEG83Keq"
      },
      "execution_count": null,
      "outputs": []
    },
    {
      "cell_type": "code",
      "source": [
        "# Realizando o filtro na vacina 'Moderna – Spikevax Bivalent Original/Omicron  - Generic'\n",
        "filtro9 = dfback.vacina == 'Moderna – Spikevax Bivalent Original/Omicron  - Generic'\n",
        "filtro9_1 = dfback.loc[filtro9]\n",
        "filtro9_1"
      ],
      "metadata": {
        "id": "sDqq49me3KsK"
      },
      "execution_count": null,
      "outputs": []
    },
    {
      "cell_type": "code",
      "source": [
        "# Realizando as alterações necessárias \n",
        "filtro9_1.iat[0,2] = 'Spikevax Bivalent Original/Omicron  - Generic'\n",
        "filtro9_1.iat[0,3] = 'Moderna'\n",
        "filtro9_1"
      ],
      "metadata": {
        "id": "AHK9fRvr3K2K"
      },
      "execution_count": null,
      "outputs": []
    },
    {
      "cell_type": "code",
      "source": [
        "# Realizando o filtro na vacina 'Pfizer BioNTech - Comirnaty Bivalent Original/Omicron - Generic'\n",
        "filtro10 = dfback.vacina == 'Pfizer BioNTech - Comirnaty Bivalent Original/Omicron - Generic'\n",
        "filtro10_1 = dfback.loc[filtro10]\n",
        "filtro10_1"
      ],
      "metadata": {
        "id": "eBPm3ZiU3fNc"
      },
      "execution_count": null,
      "outputs": []
    },
    {
      "cell_type": "code",
      "source": [
        "# Realizando as alterações necessárias \n",
        "filtro10_1.iat[0,2] = 'Comirnaty Bivalent Original/Omicron - Generic'\n",
        "filtro10_1.iat[0,3] = 'Pfizer BioNTech'\n",
        "filtro10_1"
      ],
      "metadata": {
        "id": "jBCs52uj3fWT"
      },
      "execution_count": null,
      "outputs": []
    },
    {
      "cell_type": "code",
      "source": [
        "# Realizando o filtro em todas as linhas que tem valor\n",
        "filtro11 = dfback.empresa != 'n_informado'\n",
        "filtro11_1 = dfback.loc[filtro11]\n",
        "filtro11_1"
      ],
      "metadata": {
        "id": "9wtWXRYj3fha"
      },
      "execution_count": null,
      "outputs": []
    },
    {
      "cell_type": "code",
      "source": [
        "# Concatenando todos os data frames tradados em um só\n",
        "df_pd4_final2 = pd.concat([filtro1_1, filtro2_1, filtro3_1, filtro4_1, filtro5_1, filtro6_1, filtro7_1, filtro8_1, filtro9_1, filtro10_1, filtro11_1], ignore_index = True)"
      ],
      "metadata": {
        "id": "nhprRBYF3fpT"
      },
      "execution_count": null,
      "outputs": []
    },
    {
      "cell_type": "code",
      "source": [
        "# Realizando os ultimos drop's \n",
        "df_pd4_final2.drop(columns=['vacina','fonte_de_dados'], inplace = True)"
      ],
      "metadata": {
        "id": "xsKT6hN04Fl8"
      },
      "execution_count": null,
      "outputs": []
    },
    {
      "cell_type": "code",
      "source": [
        "# Visualizando o data frame final\n",
        "df_pd4_final2.head(2)"
      ],
      "metadata": {
        "id": "YcSdSchm4qva"
      },
      "execution_count": null,
      "outputs": []
    },
    {
      "cell_type": "code",
      "source": [
        "df_pd_4.groupby(['pais'],dropna=False).size().sort_values(ascending=False)"
      ],
      "metadata": {
        "id": "G5mRRIOfdyJk"
      },
      "execution_count": null,
      "outputs": []
    },
    {
      "cell_type": "code",
      "source": [
        "df_pd_4.tail(50)"
      ],
      "metadata": {
        "id": "5iQCITQJ-g3X"
      },
      "execution_count": null,
      "outputs": []
    },
    {
      "cell_type": "code",
      "source": [
        "df_pd_4.shape"
      ],
      "metadata": {
        "id": "qICGV4WML9Ls"
      },
      "execution_count": null,
      "outputs": []
    },
    {
      "cell_type": "code",
      "source": [
        "df_pd_4.isna().sum()"
      ],
      "metadata": {
        "id": "BNntyeYjs77g"
      },
      "execution_count": null,
      "outputs": []
    },
    {
      "cell_type": "markdown",
      "source": [
        "#INSIGHTS, FILTROS E GROUPBY df_pd_2"
      ],
      "metadata": {
        "id": "Vk1Us6-SOTjo"
      }
    },
    {
      "cell_type": "code",
      "source": [
        "df_pd_2_final.dtypes"
      ],
      "metadata": {
        "id": "RmWq16zbZ0c1"
      },
      "execution_count": null,
      "outputs": []
    },
    {
      "cell_type": "code",
      "source": [
        "# Groupby para verificar a incidência de casos nos países\n",
        "df_pd_2_final.groupby(['pais']).size().sort_values(ascending=False)"
      ],
      "metadata": {
        "id": "baNcY2wmcNqs"
      },
      "execution_count": null,
      "outputs": []
    },
    {
      "cell_type": "code",
      "source": [
        "# GroupBy para verificação de casos cumulativos por data_relatada\n",
        "df_pd_2_final.groupby(['data_relatada']).size().head(10).sort_values(ascending=False).plot.bar(xlabel='casos_cumulativos', ylabel = 'Frequencia', rot=90)"
      ],
      "metadata": {
        "id": "OwXukMY3eJ6D"
      },
      "execution_count": null,
      "outputs": []
    },
    {
      "cell_type": "markdown",
      "source": [
        "#INSIGHTS, FILTROS E GROUPBY df_pd_3"
      ],
      "metadata": {
        "id": "zV4g8VLaJUuS"
      }
    },
    {
      "cell_type": "code",
      "source": [
        "df_pd_3.dtypes"
      ],
      "metadata": {
        "id": "j4DOQ_46JY9h"
      },
      "execution_count": null,
      "outputs": []
    },
    {
      "cell_type": "code",
      "source": [
        "# GroupBy com auxílio de Plot para verificação dos casos totais por regiao"
      ],
      "metadata": {
        "id": "j2Re0tjNLC-4"
      },
      "execution_count": null,
      "outputs": []
    },
    {
      "cell_type": "code",
      "source": [
        "df_pd_3.groupby(['regiao']).size().head(10).sort_values(ascending=False).plot.bar(xlabel='casos_cumulativos_totais', ylabel = 'Frequencia', rot=90)"
      ],
      "metadata": {
        "id": "Kf6lcO48KO0R"
      },
      "execution_count": null,
      "outputs": []
    },
    {
      "cell_type": "markdown",
      "source": [
        "#INSIGHTS, FILTROS E GROUPBY df_pd_4"
      ],
      "metadata": {
        "id": "uTi2zSGsMp6y"
      }
    },
    {
      "cell_type": "code",
      "source": [
        "pd.unique(df_pd_4['comeco_vacinacao'])"
      ],
      "metadata": {
        "id": "jZ8r3O0vbXV2"
      },
      "execution_count": null,
      "outputs": []
    },
    {
      "cell_type": "code",
      "source": [
        "pd.unique(df_pd_4['pais'])"
      ],
      "metadata": {
        "id": "8k-CCjLXbayf"
      },
      "execution_count": null,
      "outputs": []
    },
    {
      "cell_type": "code",
      "source": [
        "# GroupBy para verificação das vacinas mais utilizadas mundialmente assim como sua respectiva plotagem\n",
        "\n",
        "df_pd_4.groupby(['produto']).size().head(10).sort_values(ascending=False).plot.bar(xlabel='nome_produto', ylabel = 'Frequencia', rot=90)"
      ],
      "metadata": {
        "id": "kxYDLj42MsGq"
      },
      "execution_count": null,
      "outputs": []
    },
    {
      "cell_type": "code",
      "source": [
        "# GroupBy para verificação dos períodos em que mais ocorreram a autorização das vacinas\n",
        "df_pd_4.groupby(['data_de_autorizacao']).size().head(10).sort_values(ascending=False).plot.bar(xlabel='data_autorizada_vacina', ylabel = 'Frequencia', rot=90)"
      ],
      "metadata": {
        "id": "WM43Qq6KOGRB"
      },
      "execution_count": null,
      "outputs": []
    },
    {
      "cell_type": "code",
      "source": [
        "# GroupBy para verificação dos períodos em que mais ocorreram o início da vacinação\n",
        "df_pd_4.groupby(['data_de_inicio']).size().head(10).sort_values(ascending=False).plot.bar(xlabel='comeco_vacinacao', ylabel = 'Frequencia', rot=90)"
      ],
      "metadata": {
        "id": "13MRNSkYjfFS"
      },
      "execution_count": null,
      "outputs": []
    },
    {
      "cell_type": "code",
      "source": [
        "df_pd_4.dtypes"
      ],
      "metadata": {
        "id": "XwScjTr2RCE5"
      },
      "execution_count": null,
      "outputs": []
    },
    {
      "cell_type": "markdown",
      "source": [
        "#PREPARAÇÃO DOS ARQUIVOS"
      ],
      "metadata": {
        "id": "5zxpnN8mOnM1"
      }
    },
    {
      "cell_type": "code",
      "source": [
        "#Preparação dos arquivos tratados para salvar localmente\n",
        "df_pd_2_final.to_csv('df_pd_2_global_data.csv', index=False)\n",
        "\n",
        "df_pd_3.to_csv('df_pd_3_global_table_data.csv', index=False)\n",
        "\n",
        "df_pd4_final2.to_csv(\"df_pd_4_final2_vaccination-metadata.csv\", index=False)"
      ],
      "metadata": {
        "id": "qD0l7bwJOsPt"
      },
      "execution_count": null,
      "outputs": []
    },
    {
      "cell_type": "markdown",
      "source": [
        "#ENVIO DOS DATASETS PARA O CLOUD STORAGE"
      ],
      "metadata": {
        "id": "LPsNndtSMA8b"
      }
    },
    {
      "cell_type": "code",
      "source": [
        "#Enviando os Databases tratado para GCP\n",
        "\n",
        "df_pd_2_final.to_csv('gs://projfinal/tratados/df_pd_2_global_data.csv',storage_options={'token':'token_gcp'})\n",
        "df_pd_3.to_csv('gs://projfinal/tratados/df_pd_3_global_table_data.csv',storage_options={'token':'token_gcp'})\n",
        "df_pd4_final2.to_csv('gs://projfinal/tratados/df_pd_4_final2_vaccination-metadata.csv',storage_options={'token':'token_gcp'})\n"
      ],
      "metadata": {
        "id": "XTWXi-PpZld6"
      },
      "execution_count": null,
      "outputs": []
    },
    {
      "cell_type": "markdown",
      "source": [
        "#ENVIO PARA O MONGODB(NOSQL)"
      ],
      "metadata": {
        "id": "DpTPQTMvLuuT"
      }
    },
    {
      "cell_type": "code",
      "source": [
        "# Conectando com o MongoDB\n",
        "\n",
        "uri = \"mongo_uri\"\n",
        "client = MongoClient(uri,tls=True,tlsCertificateKeyFile='mongo_key')\n"
      ],
      "metadata": {
        "id": "1ExOjT20Zd-R"
      },
      "execution_count": null,
      "outputs": []
    },
    {
      "cell_type": "code",
      "source": [
        "# Criando coleções para enviar para o mongoDB\n",
        "\n",
        "db = client['projfinal']\n",
        "colecaotratado1 = db['tratado1']\n",
        "colecaotratado2 = db['tratado2']\n",
        "colecaotratado3 = db['tratado3']\n",
        "colecaotratado4 = db['tratado4']"
      ],
      "metadata": {
        "id": "joxYq-wuZh3P"
      },
      "execution_count": null,
      "outputs": []
    },
    {
      "cell_type": "code",
      "source": [
        "# Enviando os Datasets tratados para o mongoDB\n",
        "\n",
        "df_pd_1_final.reset_index(drop=True)\n",
        "df1 = df_pd_1_final.to_dict(\"records\")\n",
        "colecaotratado1.insert_many(df1)\n",
        "\n",
        "\n",
        "df_pd_2_final.reset_index(drop=True)\n",
        "df2 = df_pd_2_final.to_dict(\"records\")\n",
        "colecaotratado2.insert_many(df2)\n",
        "\n",
        "df_pd_3.reset_index(drop=True)\n",
        "df3 = df_pd_3.to_dict(\"records\")\n",
        "colecaotratado3.insert_many(df3)\n",
        "\n",
        "df_pd4_final2.reset_index(drop=True)\n",
        "df4 = df_pd4_final2.to_dict(\"records\")\n",
        "colecaotratado4.insert_many(df4)"
      ],
      "metadata": {
        "id": "rLyFKGjDZj1o",
        "colab": {
          "base_uri": "https://localhost:8080/"
        },
        "outputId": "573fbf2d-a244-42ff-a453-d11b8760620e"
      },
      "execution_count": null,
      "outputs": [
        {
          "output_type": "execute_result",
          "data": {
            "text/plain": [
              "<pymongo.results.InsertManyResult at 0x7fad8da5acd0>"
            ]
          },
          "metadata": {},
          "execution_count": 82
        }
      ]
    },
    {
      "cell_type": "code",
      "source": [
        "# Verificação se os arquivos foram enviados corretamente para o MongoDB\n",
        "colecaotratado4.count_documents({})"
      ],
      "metadata": {
        "id": "geg3oyFGL7cO"
      },
      "execution_count": null,
      "outputs": []
    },
    {
      "cell_type": "markdown",
      "source": [
        "#FINAL DO PROCESSO"
      ],
      "metadata": {
        "id": "x98ZbVi8OAIm"
      }
    }
  ]
}